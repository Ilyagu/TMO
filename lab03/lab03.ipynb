{
 "cells": [
  {
   "cell_type": "markdown",
   "metadata": {},
   "source": [
    "# Лабораторная работа №4\n",
    "# Подготовка обучающей и тестовой выборки, кросс-валидация и подбор гиперпараметров на примере метода ближайших соседей"
   ]
  },
  {
   "cell_type": "markdown",
   "metadata": {},
   "source": [
    "### Цель лабораторной работы\n",
    "Изучение сложных способов подготовки выборки и подбора гиперпараметров на примере метода ближайших соседей."
   ]
  },
  {
   "cell_type": "markdown",
   "metadata": {},
   "source": [
    "### Задание\n",
    "1. Выберите набор данных (датасет) для решения задачи классификации или регрессии.\n",
    "2. С использованием метода train_test_split разделите выборку на обучающую и тестовую.\n",
    "3. Обучите модель ближайших соседей для произвольно заданного гиперпараметра K. Оцените качество модели с помощью подходящих для задачи метрик.\n",
    "4. Постройте модель и оцените качество модели с использованием кросс-валидации.\n",
    "5. Произведите подбор гиперпараметра K с использованием GridSearchCV и кросс-валидации."
   ]
  },
  {
   "cell_type": "markdown",
   "metadata": {},
   "source": [
    "# Загрузка данных"
   ]
  },
  {
   "cell_type": "code",
   "execution_count": 1,
   "metadata": {},
   "outputs": [
    {
     "name": "stdout",
     "output_type": "stream",
     "text": [
      "data\n",
      "target\n",
      "target_names\n",
      "DESCR\n",
      "feature_names\n"
     ]
    }
   ],
   "source": [
    "import numpy as np\n",
    "import pandas as pd\n",
    "from typing import Dict, Tuple\n",
    "from scipy import stats\n",
    "from sklearn.datasets import load_wine\n",
    "from sklearn.model_selection import train_test_split\n",
    "from sklearn.model_selection import cross_val_score, cross_validate\n",
    "from sklearn.model_selection import GridSearchCV, RandomizedSearchCV\n",
    "from sklearn.neighbors import KNeighborsRegressor, KNeighborsClassifier\n",
    "from sklearn.metrics import accuracy_score, balanced_accuracy_score\n",
    "from sklearn.metrics import plot_confusion_matrix\n",
    "from sklearn.metrics import precision_score, recall_score, f1_score, classification_report\n",
    "from sklearn.metrics import confusion_matrix\n",
    "from sklearn.metrics import mean_absolute_error, mean_squared_error, mean_squared_log_error, median_absolute_error, r2_score \n",
    "from sklearn.metrics import roc_curve, roc_auc_score\n",
    "import seaborn as sns\n",
    "import matplotlib.pyplot as plt\n",
    "%matplotlib inline \n",
    "sns.set(style=\"ticks\")\n",
    "\n",
    "wine = load_wine()\n",
    "for x in wine:\n",
    "    print(x)"
   ]
  },
  {
   "cell_type": "code",
   "execution_count": 2,
   "metadata": {},
   "outputs": [],
   "source": [
    "data = pd.DataFrame(data= np.c_[wine['data'], wine['target']],\n",
    "                     columns= wine['feature_names'] + ['target'])"
   ]
  },
  {
   "cell_type": "code",
   "execution_count": 3,
   "metadata": {},
   "outputs": [
    {
     "data": {
      "text/html": [
       "<div>\n",
       "<style scoped>\n",
       "    .dataframe tbody tr th:only-of-type {\n",
       "        vertical-align: middle;\n",
       "    }\n",
       "\n",
       "    .dataframe tbody tr th {\n",
       "        vertical-align: top;\n",
       "    }\n",
       "\n",
       "    .dataframe thead th {\n",
       "        text-align: right;\n",
       "    }\n",
       "</style>\n",
       "<table border=\"1\" class=\"dataframe\">\n",
       "  <thead>\n",
       "    <tr style=\"text-align: right;\">\n",
       "      <th></th>\n",
       "      <th>alcohol</th>\n",
       "      <th>malic_acid</th>\n",
       "      <th>ash</th>\n",
       "      <th>alcalinity_of_ash</th>\n",
       "      <th>magnesium</th>\n",
       "      <th>total_phenols</th>\n",
       "      <th>flavanoids</th>\n",
       "      <th>nonflavanoid_phenols</th>\n",
       "      <th>proanthocyanins</th>\n",
       "      <th>color_intensity</th>\n",
       "      <th>hue</th>\n",
       "      <th>od280/od315_of_diluted_wines</th>\n",
       "      <th>proline</th>\n",
       "      <th>target</th>\n",
       "    </tr>\n",
       "  </thead>\n",
       "  <tbody>\n",
       "    <tr>\n",
       "      <th>0</th>\n",
       "      <td>14.23</td>\n",
       "      <td>1.71</td>\n",
       "      <td>2.43</td>\n",
       "      <td>15.6</td>\n",
       "      <td>127.0</td>\n",
       "      <td>2.80</td>\n",
       "      <td>3.06</td>\n",
       "      <td>0.28</td>\n",
       "      <td>2.29</td>\n",
       "      <td>5.64</td>\n",
       "      <td>1.04</td>\n",
       "      <td>3.92</td>\n",
       "      <td>1065.0</td>\n",
       "      <td>0.0</td>\n",
       "    </tr>\n",
       "    <tr>\n",
       "      <th>1</th>\n",
       "      <td>13.20</td>\n",
       "      <td>1.78</td>\n",
       "      <td>2.14</td>\n",
       "      <td>11.2</td>\n",
       "      <td>100.0</td>\n",
       "      <td>2.65</td>\n",
       "      <td>2.76</td>\n",
       "      <td>0.26</td>\n",
       "      <td>1.28</td>\n",
       "      <td>4.38</td>\n",
       "      <td>1.05</td>\n",
       "      <td>3.40</td>\n",
       "      <td>1050.0</td>\n",
       "      <td>0.0</td>\n",
       "    </tr>\n",
       "    <tr>\n",
       "      <th>2</th>\n",
       "      <td>13.16</td>\n",
       "      <td>2.36</td>\n",
       "      <td>2.67</td>\n",
       "      <td>18.6</td>\n",
       "      <td>101.0</td>\n",
       "      <td>2.80</td>\n",
       "      <td>3.24</td>\n",
       "      <td>0.30</td>\n",
       "      <td>2.81</td>\n",
       "      <td>5.68</td>\n",
       "      <td>1.03</td>\n",
       "      <td>3.17</td>\n",
       "      <td>1185.0</td>\n",
       "      <td>0.0</td>\n",
       "    </tr>\n",
       "    <tr>\n",
       "      <th>3</th>\n",
       "      <td>14.37</td>\n",
       "      <td>1.95</td>\n",
       "      <td>2.50</td>\n",
       "      <td>16.8</td>\n",
       "      <td>113.0</td>\n",
       "      <td>3.85</td>\n",
       "      <td>3.49</td>\n",
       "      <td>0.24</td>\n",
       "      <td>2.18</td>\n",
       "      <td>7.80</td>\n",
       "      <td>0.86</td>\n",
       "      <td>3.45</td>\n",
       "      <td>1480.0</td>\n",
       "      <td>0.0</td>\n",
       "    </tr>\n",
       "    <tr>\n",
       "      <th>4</th>\n",
       "      <td>13.24</td>\n",
       "      <td>2.59</td>\n",
       "      <td>2.87</td>\n",
       "      <td>21.0</td>\n",
       "      <td>118.0</td>\n",
       "      <td>2.80</td>\n",
       "      <td>2.69</td>\n",
       "      <td>0.39</td>\n",
       "      <td>1.82</td>\n",
       "      <td>4.32</td>\n",
       "      <td>1.04</td>\n",
       "      <td>2.93</td>\n",
       "      <td>735.0</td>\n",
       "      <td>0.0</td>\n",
       "    </tr>\n",
       "  </tbody>\n",
       "</table>\n",
       "</div>"
      ],
      "text/plain": [
       "   alcohol  malic_acid   ash  alcalinity_of_ash  magnesium  total_phenols  \\\n",
       "0    14.23        1.71  2.43               15.6      127.0           2.80   \n",
       "1    13.20        1.78  2.14               11.2      100.0           2.65   \n",
       "2    13.16        2.36  2.67               18.6      101.0           2.80   \n",
       "3    14.37        1.95  2.50               16.8      113.0           3.85   \n",
       "4    13.24        2.59  2.87               21.0      118.0           2.80   \n",
       "\n",
       "   flavanoids  nonflavanoid_phenols  proanthocyanins  color_intensity   hue  \\\n",
       "0        3.06                  0.28             2.29             5.64  1.04   \n",
       "1        2.76                  0.26             1.28             4.38  1.05   \n",
       "2        3.24                  0.30             2.81             5.68  1.03   \n",
       "3        3.49                  0.24             2.18             7.80  0.86   \n",
       "4        2.69                  0.39             1.82             4.32  1.04   \n",
       "\n",
       "   od280/od315_of_diluted_wines  proline  target  \n",
       "0                          3.92   1065.0     0.0  \n",
       "1                          3.40   1050.0     0.0  \n",
       "2                          3.17   1185.0     0.0  \n",
       "3                          3.45   1480.0     0.0  \n",
       "4                          2.93    735.0     0.0  "
      ]
     },
     "execution_count": 3,
     "metadata": {},
     "output_type": "execute_result"
    }
   ],
   "source": [
    "data.head()"
   ]
  },
  {
   "cell_type": "markdown",
   "metadata": {},
   "source": [
    "# Разделение выборки на обучающую и тестовую"
   ]
  },
  {
   "cell_type": "code",
   "execution_count": 4,
   "metadata": {},
   "outputs": [],
   "source": [
    "X_train, X_test, Y_train, Y_test = train_test_split(wine.data, wine.target, test_size=0.25, random_state=1)"
   ]
  },
  {
   "cell_type": "code",
   "execution_count": 5,
   "metadata": {},
   "outputs": [
    {
     "data": {
      "text/plain": [
       "((133, 13), (45, 13), (133,), (45,))"
      ]
     },
     "execution_count": 5,
     "metadata": {},
     "output_type": "execute_result"
    }
   ],
   "source": [
    "X_train.shape, X_test.shape, Y_train.shape, Y_test.shape"
   ]
  },
  {
   "cell_type": "markdown",
   "metadata": {},
   "source": [
    "# Обучение модели ближайших соседей для произвольно заданного гиперпараметра K"
   ]
  },
  {
   "cell_type": "code",
   "execution_count": 7,
   "metadata": {},
   "outputs": [
    {
     "data": {
      "text/plain": [
       "(0.8646616541353384, 0.6888888888888889)"
      ]
     },
     "execution_count": 7,
     "metadata": {},
     "output_type": "execute_result"
    }
   ],
   "source": [
    "# 3 ближайших соседа\n",
    "# Метрика accuracy вычисляет процент (долю в диапазоне от 0 до 1) правильно определенных классов\n",
    "cl1_1 = KNeighborsClassifier(n_neighbors=3)\n",
    "cl1_1.fit(X_train, Y_train)\n",
    "target1_0 = cl1_1.predict(X_train)\n",
    "target1_1 = cl1_1.predict(X_test)\n",
    "accuracy_score(Y_train, target1_0), accuracy_score(Y_test, target1_1)"
   ]
  },
  {
   "cell_type": "code",
   "execution_count": 8,
   "metadata": {},
   "outputs": [
    {
     "data": {
      "text/plain": [
       "(0.7669172932330827, 0.6444444444444445)"
      ]
     },
     "execution_count": 8,
     "metadata": {},
     "output_type": "execute_result"
    }
   ],
   "source": [
    "# 7 ближайших соседей\n",
    "# Метрика accuracy вычисляет процент (долю в диапазоне от 0 до 1) правильно определенных классов\n",
    "cl1_2 = KNeighborsClassifier(n_neighbors=7)\n",
    "cl1_2.fit(X_train, Y_train)\n",
    "target2_0 = cl1_2.predict(X_train)\n",
    "target2_1 = cl1_2.predict(X_test)\n",
    "accuracy_score(Y_train, target2_0), accuracy_score(Y_test, target2_1)"
   ]
  },
  {
   "cell_type": "markdown",
   "metadata": {},
   "source": [
    "# Построение модели с использованием кросс-валидации"
   ]
  },
  {
   "cell_type": "code",
   "execution_count": 11,
   "metadata": {},
   "outputs": [
    {
     "data": {
      "text/plain": [
       "array([0.61666667, 0.57627119, 0.79661017])"
      ]
     },
     "execution_count": 11,
     "metadata": {},
     "output_type": "execute_result"
    }
   ],
   "source": [
    "scores = cross_val_score(KNeighborsClassifier(n_neighbors=3), wine.data, wine.target, cv=3)\n",
    "\n",
    "# Значение метрики accuracy для 3 фолдов\n",
    "scores"
   ]
  },
  {
   "cell_type": "code",
   "execution_count": 12,
   "metadata": {},
   "outputs": [
    {
     "data": {
      "text/plain": [
       "0.6631826741996233"
      ]
     },
     "execution_count": 12,
     "metadata": {},
     "output_type": "execute_result"
    }
   ],
   "source": [
    "# Усредненное значение метрики accuracy для 3 фолдов\n",
    "np.mean(scores)"
   ]
  },
  {
   "cell_type": "code",
   "execution_count": 14,
   "metadata": {},
   "outputs": [
    {
     "data": {
      "text/plain": [
       "(array([0.61631579, 0.59473992, 0.78926159]), 0.6667724311739814)"
      ]
     },
     "execution_count": 14,
     "metadata": {},
     "output_type": "execute_result"
    }
   ],
   "source": [
    "# использование метрики precision\n",
    "scores = cross_val_score(KNeighborsClassifier(n_neighbors=3), \n",
    "                         wine.data, wine.target, cv=3,\n",
    "                        scoring='precision_weighted')\n",
    "scores, np.mean(scores)"
   ]
  },
  {
   "cell_type": "code",
   "execution_count": 15,
   "metadata": {},
   "outputs": [
    {
     "data": {
      "text/plain": [
       "{'fit_time': array([0.00096178, 0.0010004 , 0.00060678]),\n",
       " 'score_time': array([0.01024246, 0.00891662, 0.0099349 ]),\n",
       " 'test_precision': array([0.61631579, 0.59473992, 0.78926159]),\n",
       " 'train_precision': array([0.84432192, 0.87868395, 0.78719633]),\n",
       " 'test_jaccard': array([0.44786325, 0.41520347, 0.66077488]),\n",
       " 'train_jaccard': array([0.72223627, 0.78003999, 0.65344998]),\n",
       " 'test_f1': array([0.60380952, 0.57731661, 0.78515946]),\n",
       " 'train_f1': array([0.83420614, 0.87517928, 0.78484177])}"
      ]
     },
     "execution_count": 15,
     "metadata": {},
     "output_type": "execute_result"
    }
   ],
   "source": [
    "# функция cross_validate позволяет использовать для оценки несколько метрик\n",
    "scoring = {'precision': 'precision_weighted', \n",
    "           'jaccard': 'jaccard_weighted',\n",
    "           'f1': 'f1_weighted'}\n",
    "\n",
    "scores = cross_validate(KNeighborsClassifier(n_neighbors=3), \n",
    "                        wine.data, wine.target, scoring=scoring, \n",
    "                        cv=3, return_train_score=True)\n",
    "scores"
   ]
  },
  {
   "cell_type": "markdown",
   "metadata": {},
   "source": [
    "# Подбор гиперпараметра K с использованием GridSearchCV и кросс-валидации"
   ]
  },
  {
   "cell_type": "code",
   "execution_count": 16,
   "metadata": {},
   "outputs": [
    {
     "data": {
      "text/plain": [
       "[{'n_neighbors': array([ 3,  6,  9, 12, 15, 18, 21, 24, 27, 30, 33, 36, 39, 42, 45, 48, 51,\n",
       "         54])}]"
      ]
     },
     "execution_count": 16,
     "metadata": {},
     "output_type": "execute_result"
    }
   ],
   "source": [
    "n_range = np.array(range(3,57,3))\n",
    "tuned_parameters = [{'n_neighbors': n_range}]\n",
    "tuned_parameters"
   ]
  },
  {
   "cell_type": "code",
   "execution_count": 17,
   "metadata": {},
   "outputs": [
    {
     "name": "stdout",
     "output_type": "stream",
     "text": [
      "Wall time: 558 ms\n"
     ]
    },
    {
     "data": {
      "text/plain": [
       "GridSearchCV(cv=5, error_score=nan,\n",
       "             estimator=KNeighborsClassifier(algorithm='auto', leaf_size=30,\n",
       "                                            metric='minkowski',\n",
       "                                            metric_params=None, n_jobs=None,\n",
       "                                            n_neighbors=5, p=2,\n",
       "                                            weights='uniform'),\n",
       "             iid='deprecated', n_jobs=None,\n",
       "             param_grid=[{'n_neighbors': array([ 3,  6,  9, 12, 15, 18, 21, 24, 27, 30, 33, 36, 39, 42, 45, 48, 51,\n",
       "       54])}],\n",
       "             pre_dispatch='2*n_jobs', refit=True, return_train_score=False,\n",
       "             scoring='accuracy', verbose=0)"
      ]
     },
     "execution_count": 17,
     "metadata": {},
     "output_type": "execute_result"
    }
   ],
   "source": [
    "%%time\n",
    "clf_gs = GridSearchCV(KNeighborsClassifier(), tuned_parameters, cv=5, scoring='accuracy')\n",
    "clf_gs.fit(X_train, Y_train)"
   ]
  },
  {
   "cell_type": "code",
   "execution_count": 18,
   "metadata": {},
   "outputs": [
    {
     "data": {
      "text/plain": [
       "{'mean_fit_time': array([0.00218086, 0.00212307, 0.00158558, 0.00108957, 0.00184259,\n",
       "        0.00125513, 0.00199342, 0.00102086, 0.0020196 , 0.00073862,\n",
       "        0.00071645, 0.00144172, 0.00056171, 0.00139828, 0.0016283 ,\n",
       "        0.00114975, 0.00193057, 0.00018373]),\n",
       " 'std_fit_time': array([0.00163108, 0.00157372, 0.00159792, 0.0007865 , 0.00134667,\n",
       "        0.00108638, 0.00165488, 0.0006186 , 0.00206726, 0.00063647,\n",
       "        0.00062244, 0.00140927, 0.00078375, 0.0015582 , 0.00165562,\n",
       "        0.00026166, 0.00133028, 0.00036745]),\n",
       " 'mean_score_time': array([0.00213423, 0.00315628, 0.00441046, 0.00437102, 0.00364246,\n",
       "        0.00368738, 0.00446339, 0.00409231, 0.00308895, 0.00358415,\n",
       "        0.00383306, 0.00358219, 0.00483804, 0.00428672, 0.00429449,\n",
       "        0.00396485, 0.0032783 , 0.00666952]),\n",
       " 'std_score_time': array([0.00176675, 0.0022032 , 0.00125795, 0.00042462, 0.00125788,\n",
       "        0.00141373, 0.00184503, 0.00122823, 0.00111337, 0.00077244,\n",
       "        0.00169251, 0.00079049, 0.00241147, 0.00116144, 0.00161982,\n",
       "        0.00042129, 0.00114407, 0.00333194]),\n",
       " 'param_n_neighbors': masked_array(data=[3, 6, 9, 12, 15, 18, 21, 24, 27, 30, 33, 36, 39, 42,\n",
       "                    45, 48, 51, 54],\n",
       "              mask=[False, False, False, False, False, False, False, False,\n",
       "                    False, False, False, False, False, False, False, False,\n",
       "                    False, False],\n",
       "        fill_value='?',\n",
       "             dtype=object),\n",
       " 'params': [{'n_neighbors': 3},\n",
       "  {'n_neighbors': 6},\n",
       "  {'n_neighbors': 9},\n",
       "  {'n_neighbors': 12},\n",
       "  {'n_neighbors': 15},\n",
       "  {'n_neighbors': 18},\n",
       "  {'n_neighbors': 21},\n",
       "  {'n_neighbors': 24},\n",
       "  {'n_neighbors': 27},\n",
       "  {'n_neighbors': 30},\n",
       "  {'n_neighbors': 33},\n",
       "  {'n_neighbors': 36},\n",
       "  {'n_neighbors': 39},\n",
       "  {'n_neighbors': 42},\n",
       "  {'n_neighbors': 45},\n",
       "  {'n_neighbors': 48},\n",
       "  {'n_neighbors': 51},\n",
       "  {'n_neighbors': 54}],\n",
       " 'split0_test_score': array([0.77777778, 0.7037037 , 0.62962963, 0.62962963, 0.59259259,\n",
       "        0.7037037 , 0.74074074, 0.74074074, 0.77777778, 0.77777778,\n",
       "        0.66666667, 0.81481481, 0.81481481, 0.77777778, 0.85185185,\n",
       "        0.81481481, 0.81481481, 0.81481481]),\n",
       " 'split1_test_score': array([0.62962963, 0.66666667, 0.7037037 , 0.66666667, 0.77777778,\n",
       "        0.77777778, 0.77777778, 0.74074074, 0.7037037 , 0.74074074,\n",
       "        0.74074074, 0.74074074, 0.74074074, 0.74074074, 0.74074074,\n",
       "        0.74074074, 0.74074074, 0.74074074]),\n",
       " 'split2_test_score': array([0.74074074, 0.77777778, 0.74074074, 0.74074074, 0.81481481,\n",
       "        0.74074074, 0.74074074, 0.74074074, 0.7037037 , 0.74074074,\n",
       "        0.74074074, 0.74074074, 0.74074074, 0.74074074, 0.74074074,\n",
       "        0.74074074, 0.74074074, 0.74074074]),\n",
       " 'split3_test_score': array([0.69230769, 0.69230769, 0.65384615, 0.65384615, 0.65384615,\n",
       "        0.61538462, 0.61538462, 0.65384615, 0.65384615, 0.65384615,\n",
       "        0.65384615, 0.65384615, 0.65384615, 0.65384615, 0.65384615,\n",
       "        0.65384615, 0.65384615, 0.65384615]),\n",
       " 'split4_test_score': array([0.76923077, 0.69230769, 0.65384615, 0.53846154, 0.65384615,\n",
       "        0.80769231, 0.76923077, 0.73076923, 0.76923077, 0.76923077,\n",
       "        0.73076923, 0.73076923, 0.65384615, 0.73076923, 0.73076923,\n",
       "        0.73076923, 0.73076923, 0.65384615]),\n",
       " 'mean_test_score': array([0.72193732, 0.70655271, 0.67635328, 0.64586895, 0.6985755 ,\n",
       "        0.72905983, 0.72877493, 0.72136752, 0.72165242, 0.73646724,\n",
       "        0.70655271, 0.73618234, 0.72079772, 0.72877493, 0.74358974,\n",
       "        0.73618234, 0.73618234, 0.72079772]),\n",
       " 'std_test_score': array([0.0549673 , 0.0376241 , 0.04022445, 0.06526393, 0.08368797,\n",
       "        0.06672022, 0.05862027, 0.03398085, 0.0461644 , 0.04391533,\n",
       "        0.03819152, 0.05105521, 0.06099129, 0.04075767, 0.06317467,\n",
       "        0.05105521, 0.05105521, 0.06099129]),\n",
       " 'rank_test_score': array([ 9, 14, 17, 18, 16,  6,  7, 11, 10,  2, 15,  3, 12,  7,  1,  3,  3,\n",
       "        12], dtype=int32)}"
      ]
     },
     "execution_count": 18,
     "metadata": {},
     "output_type": "execute_result"
    }
   ],
   "source": [
    "clf_gs.cv_results_"
   ]
  },
  {
   "cell_type": "code",
   "execution_count": 19,
   "metadata": {},
   "outputs": [
    {
     "data": {
      "text/plain": [
       "KNeighborsClassifier(algorithm='auto', leaf_size=30, metric='minkowski',\n",
       "                     metric_params=None, n_jobs=None, n_neighbors=45, p=2,\n",
       "                     weights='uniform')"
      ]
     },
     "execution_count": 19,
     "metadata": {},
     "output_type": "execute_result"
    }
   ],
   "source": [
    "# Лучшая модель\n",
    "clf_gs.best_estimator_"
   ]
  },
  {
   "cell_type": "code",
   "execution_count": 20,
   "metadata": {},
   "outputs": [
    {
     "data": {
      "text/plain": [
       "0.7435897435897435"
      ]
     },
     "execution_count": 20,
     "metadata": {},
     "output_type": "execute_result"
    }
   ],
   "source": [
    "# Лучшее значение метрики\n",
    "clf_gs.best_score_"
   ]
  },
  {
   "cell_type": "code",
   "execution_count": 21,
   "metadata": {},
   "outputs": [
    {
     "data": {
      "text/plain": [
       "{'n_neighbors': 45}"
      ]
     },
     "execution_count": 21,
     "metadata": {},
     "output_type": "execute_result"
    }
   ],
   "source": [
    "# Лучшее значение параметров\n",
    "clf_gs.best_params_"
   ]
  },
  {
   "cell_type": "code",
   "execution_count": 22,
   "metadata": {},
   "outputs": [
    {
     "data": {
      "text/plain": [
       "[<matplotlib.lines.Line2D at 0x11eb21f0>]"
      ]
     },
     "execution_count": 22,
     "metadata": {},
     "output_type": "execute_result"
    },
    {
     "data": {
      "image/png": "[encoded data removed]",
      "text/plain": [
       "<Figure size 432x288 with 1 Axes>"
      ]
     },
     "metadata": {},
     "output_type": "display_data"
    }
   ],
   "source": [
    "# Изменение качества на тестовой выборке в зависимости от К-соседей\n",
    "plt.plot(n_range, clf_gs.cv_results_['mean_test_score'])"
   ]
  },
  {
   "cell_type": "markdown",
   "metadata": {},
   "source": [
    "Таким образом, оптимальный гиперпараметр K = 45."
   ]
  },
  {
   "cell_type": "code",
   "execution_count": null,
   "metadata": {},
   "outputs": [],
   "source": []
  }
 ],
 "metadata": {
  "kernelspec": {
   "display_name": "Python 3",
   "language": "python",
   "name": "python3"
  },
  "language_info": {
   "codemirror_mode": {
    "name": "ipython",
    "version": 3
   },
   "file_extension": ".py",
   "mimetype": "text/x-python",
   "name": "python",
   "nbconvert_exporter": "python",
   "pygments_lexer": "ipython3",
   "version": "3.7.4"
  }
 },
 "nbformat": 4,
 "nbformat_minor": 4
}
