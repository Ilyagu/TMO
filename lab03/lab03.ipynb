{
  "nbformat": 4,
  "nbformat_minor": 0,
  "metadata": {
    "kernelspec": {
      "display_name": "Python 3",
      "language": "python",
      "name": "python3"
    },
    "language_info": {
      "codemirror_mode": {
        "name": "ipython",
        "version": 3
      },
      "file_extension": ".py",
      "mimetype": "text/x-python",
      "name": "python",
      "nbconvert_exporter": "python",
      "pygments_lexer": "ipython3",
      "version": "3.7.4"
    },
    "colab": {
      "name": "lab03.ipynb",
      "provenance": []
    }
  },
  "cells": [
    {
      "cell_type": "markdown",
      "metadata": {
        "id": "dRWPPxVux20r"
      },
      "source": [
        "# Лабораторная работа №4\n",
        "# Подготовка обучающей и тестовой выборки, кросс-валидация и подбор гиперпараметров на примере метода ближайших соседей"
      ]
    },
    {
      "cell_type": "markdown",
      "metadata": {
        "id": "lVo6JrOvx202"
      },
      "source": [
        "### Цель лабораторной работы\n",
        "Изучение сложных способов подготовки выборки и подбора гиперпараметров на примере метода ближайших соседей."
      ]
    },
    {
      "cell_type": "markdown",
      "metadata": {
        "id": "xwMtXMxvx203"
      },
      "source": [
        "### Задание\n",
        "1. Выберите набор данных (датасет) для решения задачи классификации или регрессии.\n",
        "2. С использованием метода train_test_split разделите выборку на обучающую и тестовую.\n",
        "3. Обучите модель ближайших соседей для произвольно заданного гиперпараметра K. Оцените качество модели с помощью подходящих для задачи метрик.\n",
        "4. Постройте модель и оцените качество модели с использованием кросс-валидации.\n",
        "5. Произведите подбор гиперпараметра K с использованием GridSearchCV и кросс-валидации."
      ]
    },
    {
      "cell_type": "markdown",
      "metadata": {
        "id": "tUqgPgNEx204"
      },
      "source": [
        "# Загрузка данных"
      ]
    },
    {
      "cell_type": "code",
      "metadata": {
        "colab": {
          "base_uri": "https://localhost:8080/"
        },
        "id": "1Uds96Zax205",
        "outputId": "95ad70d4-2408-4843-e65f-c96feedac25c"
      },
      "source": [
        "import numpy as np\n",
        "import pandas as pd\n",
        "from typing import Dict, Tuple\n",
        "from scipy import stats\n",
        "from sklearn.datasets import load_iris\n",
        "from sklearn.model_selection import train_test_split\n",
        "from sklearn.model_selection import cross_val_score, cross_validate\n",
        "from sklearn.model_selection import GridSearchCV, RandomizedSearchCV\n",
        "from sklearn.neighbors import KNeighborsRegressor, KNeighborsClassifier\n",
        "from sklearn.metrics import accuracy_score, balanced_accuracy_score\n",
        "from sklearn.metrics import plot_confusion_matrix\n",
        "from sklearn.metrics import precision_score, recall_score, f1_score, classification_report\n",
        "from sklearn.metrics import confusion_matrix, make_scorer\n",
        "from sklearn.metrics import mean_absolute_error, mean_squared_error, mean_squared_log_error, median_absolute_error, r2_score \n",
        "from sklearn.metrics import roc_curve, roc_auc_score\n",
        "import seaborn as sns\n",
        "import matplotlib.pyplot as plt\n",
        "%matplotlib inline \n",
        "sns.set(style=\"ticks\")\n",
        "\n",
        "iri = load_iris()\n",
        "for x in iri:\n",
        "    print(x)"
      ],
      "execution_count": 62,
      "outputs": [
        {
          "output_type": "stream",
          "text": [
            "data\n",
            "target\n",
            "target_names\n",
            "DESCR\n",
            "feature_names\n",
            "filename\n"
          ],
          "name": "stdout"
        }
      ]
    },
    {
      "cell_type": "code",
      "metadata": {
        "id": "wKZ__1G3x209"
      },
      "source": [
        "data = pd.DataFrame(data= np.c_[iri['data'], iri['target']],\n",
        "                     columns= iri['feature_names'] + ['target'])"
      ],
      "execution_count": 63,
      "outputs": []
    },
    {
      "cell_type": "code",
      "metadata": {
        "colab": {
          "base_uri": "https://localhost:8080/",
          "height": 206
        },
        "id": "UJH16vb4x20-",
        "outputId": "0382cd9b-e026-4b64-d83a-22182cc0008a"
      },
      "source": [
        "data.head()"
      ],
      "execution_count": 64,
      "outputs": [
        {
          "output_type": "execute_result",
          "data": {
            "text/html": [
              "<div>\n",
              "<style scoped>\n",
              "    .dataframe tbody tr th:only-of-type {\n",
              "        vertical-align: middle;\n",
              "    }\n",
              "\n",
              "    .dataframe tbody tr th {\n",
              "        vertical-align: top;\n",
              "    }\n",
              "\n",
              "    .dataframe thead th {\n",
              "        text-align: right;\n",
              "    }\n",
              "</style>\n",
              "<table border=\"1\" class=\"dataframe\">\n",
              "  <thead>\n",
              "    <tr style=\"text-align: right;\">\n",
              "      <th></th>\n",
              "      <th>sepal length (cm)</th>\n",
              "      <th>sepal width (cm)</th>\n",
              "      <th>petal length (cm)</th>\n",
              "      <th>petal width (cm)</th>\n",
              "      <th>target</th>\n",
              "    </tr>\n",
              "  </thead>\n",
              "  <tbody>\n",
              "    <tr>\n",
              "      <th>0</th>\n",
              "      <td>5.1</td>\n",
              "      <td>3.5</td>\n",
              "      <td>1.4</td>\n",
              "      <td>0.2</td>\n",
              "      <td>0.0</td>\n",
              "    </tr>\n",
              "    <tr>\n",
              "      <th>1</th>\n",
              "      <td>4.9</td>\n",
              "      <td>3.0</td>\n",
              "      <td>1.4</td>\n",
              "      <td>0.2</td>\n",
              "      <td>0.0</td>\n",
              "    </tr>\n",
              "    <tr>\n",
              "      <th>2</th>\n",
              "      <td>4.7</td>\n",
              "      <td>3.2</td>\n",
              "      <td>1.3</td>\n",
              "      <td>0.2</td>\n",
              "      <td>0.0</td>\n",
              "    </tr>\n",
              "    <tr>\n",
              "      <th>3</th>\n",
              "      <td>4.6</td>\n",
              "      <td>3.1</td>\n",
              "      <td>1.5</td>\n",
              "      <td>0.2</td>\n",
              "      <td>0.0</td>\n",
              "    </tr>\n",
              "    <tr>\n",
              "      <th>4</th>\n",
              "      <td>5.0</td>\n",
              "      <td>3.6</td>\n",
              "      <td>1.4</td>\n",
              "      <td>0.2</td>\n",
              "      <td>0.0</td>\n",
              "    </tr>\n",
              "  </tbody>\n",
              "</table>\n",
              "</div>"
            ],
            "text/plain": [
              "   sepal length (cm)  sepal width (cm)  ...  petal width (cm)  target\n",
              "0                5.1               3.5  ...               0.2     0.0\n",
              "1                4.9               3.0  ...               0.2     0.0\n",
              "2                4.7               3.2  ...               0.2     0.0\n",
              "3                4.6               3.1  ...               0.2     0.0\n",
              "4                5.0               3.6  ...               0.2     0.0\n",
              "\n",
              "[5 rows x 5 columns]"
            ]
          },
          "metadata": {
            "tags": []
          },
          "execution_count": 64
        }
      ]
    },
    {
      "cell_type": "markdown",
      "metadata": {
        "id": "UTG-F3Lex20_"
      },
      "source": [
        "# Разделение выборки на обучающую и тестовую"
      ]
    },
    {
      "cell_type": "code",
      "metadata": {
        "id": "voh_9ft0x20_"
      },
      "source": [
        "X_train, X_test, Y_train, Y_test = train_test_split(iri.data, iri.target, test_size=0.25, random_state=1)"
      ],
      "execution_count": 65,
      "outputs": []
    },
    {
      "cell_type": "code",
      "metadata": {
        "colab": {
          "base_uri": "https://localhost:8080/"
        },
        "id": "1Wem0hjAx21A",
        "outputId": "4ae2cbbb-bab1-48d5-e12e-1dd3a2c7e396"
      },
      "source": [
        "X_train.shape, X_test.shape, Y_train.shape, Y_test.shape"
      ],
      "execution_count": 66,
      "outputs": [
        {
          "output_type": "execute_result",
          "data": {
            "text/plain": [
              "((112, 4), (38, 4), (112,), (38,))"
            ]
          },
          "metadata": {
            "tags": []
          },
          "execution_count": 66
        }
      ]
    },
    {
      "cell_type": "markdown",
      "metadata": {
        "id": "z0mT6Qr_x21B"
      },
      "source": [
        "# Обучение модели ближайших соседей для произвольно заданного гиперпараметра K"
      ]
    },
    {
      "cell_type": "code",
      "metadata": {
        "colab": {
          "base_uri": "https://localhost:8080/"
        },
        "id": "xZGo6N6ox21D",
        "outputId": "b8b90ef2-2f0f-4561-f6db-c4066f447daa"
      },
      "source": [
        "# 3 ближайших соседа\n",
        "# Метрика accuracy вычисляет процент (долю в диапазоне от 0 до 1) правильно определенных классов\n",
        "cl1_1 = KNeighborsClassifier(n_neighbors=3)\n",
        "cl1_1.fit(X_train, Y_train)\n",
        "target1_0 = cl1_1.predict(X_train)\n",
        "target1_1 = cl1_1.predict(X_test)\n",
        "accuracy_score(Y_train, target1_0), accuracy_score(Y_test, target1_1)"
      ],
      "execution_count": 67,
      "outputs": [
        {
          "output_type": "execute_result",
          "data": {
            "text/plain": [
              "(0.9464285714285714, 1.0)"
            ]
          },
          "metadata": {
            "tags": []
          },
          "execution_count": 67
        }
      ]
    },
    {
      "cell_type": "code",
      "metadata": {
        "colab": {
          "base_uri": "https://localhost:8080/"
        },
        "id": "OT4Pc3eVx21E",
        "outputId": "24e25b92-d839-4473-fbdb-a900c319d60d"
      },
      "source": [
        "# 7 ближайших соседей\n",
        "# Метрика accuracy вычисляет процент (долю в диапазоне от 0 до 1) правильно определенных классов\n",
        "cl1_2 = KNeighborsClassifier(n_neighbors=7)\n",
        "cl1_2.fit(X_train, Y_train)\n",
        "target2_0 = cl1_2.predict(X_train)\n",
        "target2_1 = cl1_2.predict(X_test)\n",
        "accuracy_score(Y_train, target2_0), accuracy_score(Y_test, target2_1)"
      ],
      "execution_count": 68,
      "outputs": [
        {
          "output_type": "execute_result",
          "data": {
            "text/plain": [
              "(0.9642857142857143, 0.9736842105263158)"
            ]
          },
          "metadata": {
            "tags": []
          },
          "execution_count": 68
        }
      ]
    },
    {
      "cell_type": "markdown",
      "metadata": {
        "id": "yv-ddNuHx21E"
      },
      "source": [
        "# Построение модели с использованием кросс-валидации"
      ]
    },
    {
      "cell_type": "code",
      "metadata": {
        "colab": {
          "base_uri": "https://localhost:8080/"
        },
        "id": "vQISJseVx21F",
        "outputId": "f2c963e2-07d9-49ae-eba9-7d1bbe0ce38a"
      },
      "source": [
        "scores = make_scorer(scores, zero_division=0)\n",
        "\n",
        "scores = cross_val_score(KNeighborsClassifier(n_neighbors=3), iri.data, iri.target, cv=3)\n",
        "\n",
        "# Значение метрики accuracy для 3 фолдов\n",
        "scores"
      ],
      "execution_count": 71,
      "outputs": [
        {
          "output_type": "execute_result",
          "data": {
            "text/plain": [
              "array([0.98, 0.96, 0.98])"
            ]
          },
          "metadata": {
            "tags": []
          },
          "execution_count": 71
        }
      ]
    },
    {
      "cell_type": "code",
      "metadata": {
        "colab": {
          "base_uri": "https://localhost:8080/"
        },
        "id": "FVSFLgOrx21F",
        "outputId": "887436e2-4a72-48b4-f53e-c617af4ec81d"
      },
      "source": [
        "# Усредненное значение метрики accuracy для 3 фолдов\n",
        "np.mean(scores)"
      ],
      "execution_count": 74,
      "outputs": [
        {
          "output_type": "execute_result",
          "data": {
            "text/plain": [
              "0.9754775828460039"
            ]
          },
          "metadata": {
            "tags": []
          },
          "execution_count": 74
        }
      ]
    },
    {
      "cell_type": "code",
      "metadata": {
        "colab": {
          "base_uri": "https://localhost:8080/"
        },
        "id": "Xghz-mjvx21G",
        "outputId": "a38debc6-b406-4a71-e85e-a527d3860daf"
      },
      "source": [
        "# использование метрики precision\n",
        "scores = cross_val_score(KNeighborsClassifier(n_neighbors=3), \n",
        "                         iri.data, iri.target, cv=3,\n",
        "                        scoring='precision_weighted')\n",
        "scores, np.mean(scores)"
      ],
      "execution_count": 75,
      "outputs": [
        {
          "output_type": "execute_result",
          "data": {
            "text/plain": [
              "(array([0.98111111, 0.96421053, 0.98111111]), 0.9754775828460039)"
            ]
          },
          "metadata": {
            "tags": []
          },
          "execution_count": 75
        }
      ]
    },
    {
      "cell_type": "code",
      "metadata": {
        "colab": {
          "base_uri": "https://localhost:8080/"
        },
        "id": "38KGM71Kx21H",
        "outputId": "2a275e70-b33f-4d39-d1e5-197a462d71b3"
      },
      "source": [
        "# функция cross_validate позволяет использовать для оценки несколько метрик\n",
        "scoring = {'precision': 'precision_weighted', \n",
        "           'jaccard': 'jaccard_weighted',\n",
        "           'f1': 'f1_weighted'}\n",
        "\n",
        "scores = cross_validate(KNeighborsClassifier(n_neighbors=3), \n",
        "                        iri.data, iri.target, scoring=scoring, \n",
        "                        cv=2, return_train_score=True)\n",
        "scores"
      ],
      "execution_count": 76,
      "outputs": [
        {
          "output_type": "execute_result",
          "data": {
            "text/plain": [
              "{'fit_time': array([0.00268006, 0.0004704 ]),\n",
              " 'score_time': array([0.00897551, 0.00473833]),\n",
              " 'test_f1': array([0.95998399, 0.91987179]),\n",
              " 'test_jaccard': array([0.92450142, 0.85696041]),\n",
              " 'test_precision': array([0.96047009, 0.92163178]),\n",
              " 'train_f1': array([0.98666133, 0.95998399]),\n",
              " 'train_jaccard': array([0.97384615, 0.92450142]),\n",
              " 'train_precision': array([0.98717949, 0.96047009])}"
            ]
          },
          "metadata": {
            "tags": []
          },
          "execution_count": 76
        }
      ]
    },
    {
      "cell_type": "markdown",
      "metadata": {
        "id": "n1UD02Osx21I"
      },
      "source": [
        "# Подбор гиперпараметра K с использованием GridSearchCV и кросс-валидации"
      ]
    },
    {
      "cell_type": "code",
      "metadata": {
        "colab": {
          "base_uri": "https://localhost:8080/"
        },
        "id": "yZ4rl_y_x21I",
        "outputId": "dadeea83-cda2-4cb0-812e-a8200e047613"
      },
      "source": [
        "n_range = np.array(range(3,57,3))\n",
        "tuned_parameters = [{'n_neighbors': n_range}]\n",
        "tuned_parameters"
      ],
      "execution_count": 77,
      "outputs": [
        {
          "output_type": "execute_result",
          "data": {
            "text/plain": [
              "[{'n_neighbors': array([ 3,  6,  9, 12, 15, 18, 21, 24, 27, 30, 33, 36, 39, 42, 45, 48, 51,\n",
              "         54])}]"
            ]
          },
          "metadata": {
            "tags": []
          },
          "execution_count": 77
        }
      ]
    },
    {
      "cell_type": "code",
      "metadata": {
        "colab": {
          "base_uri": "https://localhost:8080/"
        },
        "id": "Pq6WqrEQx21J",
        "outputId": "b5564b33-2813-49b4-db16-97db81a0fd9c"
      },
      "source": [
        "%%time\n",
        "clf_gs = GridSearchCV(KNeighborsClassifier(), tuned_parameters, cv=5, scoring='accuracy')\n",
        "clf_gs.fit(X_train, Y_train)"
      ],
      "execution_count": 78,
      "outputs": [
        {
          "output_type": "stream",
          "text": [
            "CPU times: user 219 ms, sys: 281 µs, total: 219 ms\n",
            "Wall time: 231 ms\n"
          ],
          "name": "stdout"
        }
      ]
    },
    {
      "cell_type": "code",
      "metadata": {
        "colab": {
          "base_uri": "https://localhost:8080/"
        },
        "id": "TOPwDWlZx21K",
        "outputId": "9ee027bc-63f2-45db-cf35-6e63974ae2dd"
      },
      "source": [
        "clf_gs.cv_results_"
      ],
      "execution_count": 79,
      "outputs": [
        {
          "output_type": "execute_result",
          "data": {
            "text/plain": [
              "{'mean_fit_time': array([0.00046797, 0.00041251, 0.00042162, 0.00042205, 0.00041413,\n",
              "        0.0004055 , 0.0004014 , 0.0003942 , 0.00041513, 0.00042596,\n",
              "        0.00039253, 0.00039721, 0.00047994, 0.00040751, 0.00034781,\n",
              "        0.00033731, 0.00040617, 0.00031843]),\n",
              " 'mean_score_time': array([0.00300083, 0.00155463, 0.00155001, 0.00152822, 0.00155001,\n",
              "        0.0014894 , 0.00148373, 0.0015327 , 0.0015049 , 0.00150142,\n",
              "        0.0014864 , 0.00153699, 0.0015861 , 0.0016243 , 0.00271254,\n",
              "        0.00199056, 0.00193677, 0.00155244]),\n",
              " 'mean_test_score': array([0.94624506, 0.95573123, 0.97312253, 0.97312253, 0.96403162,\n",
              "        0.95533597, 0.95533597, 0.94624506, 0.96442688, 0.95533597,\n",
              "        0.92806324, 0.91936759, 0.93675889, 0.92806324, 0.92806324,\n",
              "        0.92806324, 0.89288538, 0.88379447]),\n",
              " 'param_n_neighbors': masked_array(data=[3, 6, 9, 12, 15, 18, 21, 24, 27, 30, 33, 36, 39, 42,\n",
              "                    45, 48, 51, 54],\n",
              "              mask=[False, False, False, False, False, False, False, False,\n",
              "                    False, False, False, False, False, False, False, False,\n",
              "                    False, False],\n",
              "        fill_value='?',\n",
              "             dtype=object),\n",
              " 'params': [{'n_neighbors': 3},\n",
              "  {'n_neighbors': 6},\n",
              "  {'n_neighbors': 9},\n",
              "  {'n_neighbors': 12},\n",
              "  {'n_neighbors': 15},\n",
              "  {'n_neighbors': 18},\n",
              "  {'n_neighbors': 21},\n",
              "  {'n_neighbors': 24},\n",
              "  {'n_neighbors': 27},\n",
              "  {'n_neighbors': 30},\n",
              "  {'n_neighbors': 33},\n",
              "  {'n_neighbors': 36},\n",
              "  {'n_neighbors': 39},\n",
              "  {'n_neighbors': 42},\n",
              "  {'n_neighbors': 45},\n",
              "  {'n_neighbors': 48},\n",
              "  {'n_neighbors': 51},\n",
              "  {'n_neighbors': 54}],\n",
              " 'rank_test_score': array([ 9,  5,  1,  1,  4,  6,  6,  9,  3,  6, 12, 16, 11, 12, 12, 12, 17,\n",
              "        18], dtype=int32),\n",
              " 'split0_test_score': array([0.95652174, 0.95652174, 1.        , 1.        , 1.        ,\n",
              "        1.        , 1.        , 1.        , 1.        , 1.        ,\n",
              "        1.        , 0.95652174, 1.        , 0.95652174, 0.95652174,\n",
              "        0.95652174, 0.82608696, 0.82608696]),\n",
              " 'split1_test_score': array([0.95652174, 0.91304348, 0.95652174, 0.95652174, 0.95652174,\n",
              "        0.91304348, 0.91304348, 0.91304348, 0.91304348, 0.91304348,\n",
              "        0.91304348, 0.91304348, 0.95652174, 0.95652174, 0.95652174,\n",
              "        0.95652174, 0.95652174, 0.95652174]),\n",
              " 'split2_test_score': array([0.95454545, 0.95454545, 0.95454545, 0.95454545, 0.95454545,\n",
              "        0.90909091, 0.90909091, 0.86363636, 0.95454545, 0.90909091,\n",
              "        0.81818182, 0.81818182, 0.86363636, 0.86363636, 0.86363636,\n",
              "        0.86363636, 0.86363636, 0.86363636]),\n",
              " 'split3_test_score': array([0.95454545, 1.        , 1.        , 1.        , 1.        ,\n",
              "        1.        , 1.        , 1.        , 1.        , 1.        ,\n",
              "        1.        , 1.        , 0.95454545, 0.95454545, 0.95454545,\n",
              "        0.95454545, 0.95454545, 0.90909091]),\n",
              " 'split4_test_score': array([0.90909091, 0.95454545, 0.95454545, 0.95454545, 0.90909091,\n",
              "        0.95454545, 0.95454545, 0.95454545, 0.95454545, 0.95454545,\n",
              "        0.90909091, 0.90909091, 0.90909091, 0.90909091, 0.90909091,\n",
              "        0.90909091, 0.86363636, 0.86363636]),\n",
              " 'std_fit_time': array([2.86258814e-05, 7.28078970e-06, 2.37781628e-05, 1.10882840e-05,\n",
              "        2.64509270e-05, 1.80275980e-05, 1.25695216e-05, 9.74615958e-06,\n",
              "        9.20974896e-06, 4.93176424e-05, 1.27446718e-05, 1.45759378e-05,\n",
              "        1.36730592e-04, 5.51030676e-06, 2.06671368e-05, 6.19942223e-05,\n",
              "        9.10522520e-05, 2.06523893e-05]),\n",
              " 'std_score_time': array([2.11084287e-03, 1.84362266e-04, 1.01562442e-04, 9.69784562e-05,\n",
              "        1.18473011e-04, 6.97565664e-05, 7.16074475e-05, 1.08050984e-04,\n",
              "        1.38537403e-05, 4.41435331e-05, 2.71699285e-05, 5.29363558e-05,\n",
              "        7.86683915e-05, 1.04466239e-04, 2.23390712e-03, 5.15883045e-04,\n",
              "        4.25280863e-04, 3.08055257e-05]),\n",
              " 'std_test_score': array([0.01859809, 0.02751511, 0.02195722, 0.02195722, 0.03391848,\n",
              "        0.03979356, 0.03979356, 0.05248738, 0.03276105, 0.03979356,\n",
              "        0.06783696, 0.06044201, 0.04651621, 0.03696445, 0.03696445,\n",
              "        0.03696445, 0.05296148, 0.04488211])}"
            ]
          },
          "metadata": {
            "tags": []
          },
          "execution_count": 79
        }
      ]
    },
    {
      "cell_type": "code",
      "metadata": {
        "colab": {
          "base_uri": "https://localhost:8080/"
        },
        "id": "duQGdM-Ax21L",
        "outputId": "2dcd7521-b190-4997-8c1e-940bf73569d7"
      },
      "source": [
        "# Лучшая модель\n",
        "clf_gs.best_estimator_"
      ],
      "execution_count": 80,
      "outputs": [
        {
          "output_type": "execute_result",
          "data": {
            "text/plain": [
              "KNeighborsClassifier(algorithm='auto', leaf_size=30, metric='minkowski',\n",
              "                     metric_params=None, n_jobs=None, n_neighbors=9, p=2,\n",
              "                     weights='uniform')"
            ]
          },
          "metadata": {
            "tags": []
          },
          "execution_count": 80
        }
      ]
    },
    {
      "cell_type": "code",
      "metadata": {
        "colab": {
          "base_uri": "https://localhost:8080/"
        },
        "id": "HggP8BRGx21M",
        "outputId": "c358b515-0f55-4bfa-b876-cafd00e33ff0"
      },
      "source": [
        "# Лучшее значение метрики\n",
        "clf_gs.best_score_"
      ],
      "execution_count": 81,
      "outputs": [
        {
          "output_type": "execute_result",
          "data": {
            "text/plain": [
              "0.9731225296442687"
            ]
          },
          "metadata": {
            "tags": []
          },
          "execution_count": 81
        }
      ]
    },
    {
      "cell_type": "code",
      "metadata": {
        "colab": {
          "base_uri": "https://localhost:8080/"
        },
        "id": "n89fwT_zx21N",
        "outputId": "46e85e13-1681-4777-e9d8-194a4e9d2472"
      },
      "source": [
        "# Лучшее значение параметров\n",
        "clf_gs.best_params_"
      ],
      "execution_count": 82,
      "outputs": [
        {
          "output_type": "execute_result",
          "data": {
            "text/plain": [
              "{'n_neighbors': 9}"
            ]
          },
          "metadata": {
            "tags": []
          },
          "execution_count": 82
        }
      ]
    },
    {
      "cell_type": "code",
      "metadata": {
        "colab": {
          "base_uri": "https://localhost:8080/",
          "height": 285
        },
        "id": "PwdSn1LMx21O",
        "outputId": "aa817cb9-a498-409b-b956-1837bcc01dde"
      },
      "source": [
        "# Изменение качества на тестовой выборке в зависимости от К-соседей\n",
        "plt.plot(n_range, clf_gs.cv_results_['mean_test_score'])"
      ],
      "execution_count": 83,
      "outputs": [
        {
          "output_type": "execute_result",
          "data": {
            "text/plain": [
              "[<matplotlib.lines.Line2D at 0x7fe71617ffd0>]"
            ]
          },
          "metadata": {
            "tags": []
          },
          "execution_count": 83
        },
        {
          "output_type": "display_data",
          "data": {
            "image/png": "[encoded data removed]",
            "text/plain": [
              "<Figure size 432x288 with 1 Axes>"
            ]
          },
          "metadata": {
            "tags": []
          }
        }
      ]
    },
    {
      "cell_type": "markdown",
      "metadata": {
        "id": "BqStMFcTx21V"
      },
      "source": [
        "Таким образом, оптимальный гиперпараметр K = 45."
      ]
    }
  ]
}