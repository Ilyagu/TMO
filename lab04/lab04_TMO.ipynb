{
  "nbformat": 4,
  "nbformat_minor": 0,
  "metadata": {
    "colab": {
      "name": "lab04_TMO.ipynb",
      "provenance": [],
      "collapsed_sections": [],
      "toc_visible": true
    },
    "kernelspec": {
      "name": "python3",
      "display_name": "Python 3"
    },
    "language_info": {
      "name": "python"
    }
  },
  "cells": [
    {
      "cell_type": "markdown",
      "metadata": {
        "id": "K_DoG9Wxr2qM"
      },
      "source": [
        "#**Линейные модели, SVM и деревья решений**"
      ]
    },
    {
      "cell_type": "markdown",
      "metadata": {
        "id": "_b4B96tEr9SM"
      },
      "source": [
        "**Цель лабораторной работы**\\\n",
        "Изучение линейных моделей, SVM и деревьев решений."
      ]
    },
    {
      "cell_type": "markdown",
      "metadata": {
        "id": "GK6vDO5vsGI4"
      },
      "source": [
        "**Задание**\n",
        "1.  Выберите набор данных (датасет) для решения задачи классификации или регрессии.\n",
        "2.  В случае необходимости проведите удаление или заполнение пропусков и кодирование категориальных признаков.\n",
        "3.  С использованием метода train_test_split разделите выборку на обучающую и тестовую.\n",
        "\n",
        "  Обучите следующие модели:\n",
        "  -  одну из линейных моделей;\n",
        "  -  SVM;\n",
        "  -  дерево решений.\n",
        "4.  Оцените качество моделей с помощью двух подходящих для задачи метрик. Сравните качество полученных моделей."
      ]
    },
    {
      "cell_type": "markdown",
      "metadata": {
        "id": "6OrArTQ1sZ8Q"
      },
      "source": [
        "##**Решение**"
      ]
    },
    {
      "cell_type": "markdown",
      "metadata": {
        "id": "8V83OqO2scRa"
      },
      "source": [
        "###**Импорт библиотек и загрузка данных**"
      ]
    },
    {
      "cell_type": "code",
      "metadata": {
        "id": "49-7a4B-sr1N"
      },
      "source": [
        "import numpy as np\n",
        "import pandas as pd\n",
        "import seaborn as sns\n",
        "from google.colab import files\n",
        "import matplotlib.pyplot as plt\n",
        "from IPython.display import Image\n",
        "from io import StringIO \n",
        "from typing import Tuple, Dict\n",
        "from operator import itemgetter\n",
        "from sklearn.model_selection import train_test_split\n",
        "from sklearn.linear_model import LinearRegression\n",
        "from sklearn.preprocessing import StandardScaler\n",
        "from sklearn.metrics import f1_score, r2_score, mean_squared_error, mean_absolute_error, accuracy_score, precision_score\n",
        "from sklearn.svm import LinearSVR, SVR\n",
        "from sklearn.tree import DecisionTreeRegressor, plot_tree , export_graphviz\n",
        "%matplotlib inline \n",
        "sns.set(style=\"ticks\")"
      ],
      "execution_count": 1,
      "outputs": []
    },
    {
      "cell_type": "code",
      "metadata": {
        "colab": {
          "resources": {
            "http://localhost:8080/nbextensions/google.colab/files.js": {
              "data": "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",
              "ok": true,
              "headers": [
                [
                  "content-type",
                  "application/javascript"
                ]
              ],
              "status": 200,
              "status_text": ""
            }
          },
          "base_uri": "https://localhost:8080/",
          "height": 73
        },
        "id": "INLvBJslrjgE",
        "outputId": "75f442d6-037c-4927-9382-69eede7586c9"
      },
      "source": [
        "# загрузка данных\n",
        "uploaded = files.upload()"
      ],
      "execution_count": null,
      "outputs": [
        {
          "output_type": "display_data",
          "data": {
            "text/html": [
              "\n",
              "     <input type=\"file\" id=\"files-320d70b2-a7c9-4719-8709-7090ccbc5f7e\" name=\"files[]\" multiple disabled\n",
              "        style=\"border:none\" />\n",
              "     <output id=\"result-320d70b2-a7c9-4719-8709-7090ccbc5f7e\">\n",
              "      Upload widget is only available when the cell has been executed in the\n",
              "      current browser session. Please rerun this cell to enable.\n",
              "      </output>\n",
              "      <script src=\"/nbextensions/google.colab/files.js\"></script> "
            ],
            "text/plain": [
              "<IPython.core.display.HTML object>"
            ]
          },
          "metadata": {
            "tags": []
          }
        },
        {
          "output_type": "stream",
          "text": [
            "Saving pulsar_stars.csv to pulsar_stars.csv\n"
          ],
          "name": "stdout"
        }
      ]
    },
    {
      "cell_type": "code",
      "metadata": {
        "id": "s4MENbXithAH"
      },
      "source": [
        "data = pd.read_csv('GlobalTem.csv', sep=',')"
      ],
      "execution_count": 2,
      "outputs": []
    },
    {
      "cell_type": "markdown",
      "metadata": {
        "id": "VK8rUTN3tsAF"
      },
      "source": [
        "###**Характеристики датасета**"
      ]
    },
    {
      "cell_type": "markdown",
      "metadata": {
        "id": "ver11FSht6PA"
      },
      "source": [
        "В лабораторной работе используется датасет Pulsar Stars. Датасет содержит характеристики звезды и ее принадлежность к пульсарам или нет.\\\n",
        "**В датасете представлены следующие признаки:**\n",
        "-  Mean of the integrated profile - среднее значение интегрированного профиля\n",
        "-  Standard deviation of the integrated profile - стандартное отклонение интегрированного профиля\n",
        "-  Excess kurtosis of the integrated profile - чрезмерный эксцесс интегрированного профиля\n",
        "-  Skewness of the integrated profile - перекос интегрированного профиля\n",
        "-  Mean of the DM-SNR curve - среднее значение кривой DM-SNR\n",
        "-  Standard deviation of the DM-SNR curve - стандартное отклонение кривой DM-SNR\n",
        "-  Excess kurtosis of the DM-SNR curve - избыточный эксцесс кривой DM-SNR\n",
        "-  Skewness of the DM-SNR curve - асимметрия кривой DM-SNR\n",
        "-  target_class - 0 (не является пульсаром), 1 (является пульсаром)"
      ]
    },
    {
      "cell_type": "code",
      "metadata": {
        "colab": {
          "base_uri": "https://localhost:8080/"
        },
        "id": "Dp2m3xo7zwQI",
        "outputId": "958b26f5-335b-4822-accd-0b21a5ee429c"
      },
      "source": [
        "# размер датасета\n",
        "data.shape"
      ],
      "execution_count": 3,
      "outputs": [
        {
          "output_type": "execute_result",
          "data": {
            "text/plain": [
              "(20000, 17)"
            ]
          },
          "metadata": {
            "tags": []
          },
          "execution_count": 3
        }
      ]
    },
    {
      "cell_type": "code",
      "metadata": {
        "colab": {
          "base_uri": "https://localhost:8080/"
        },
        "id": "g1-QUKRzz4Oa",
        "outputId": "14d16c7a-0cb6-4507-cab6-198642541649"
      },
      "source": [
        "# типы колонок\n",
        "data.dtypes"
      ],
      "execution_count": 4,
      "outputs": [
        {
          "output_type": "execute_result",
          "data": {
            "text/plain": [
              "letter    object\n",
              "xbox       int64\n",
              "ybox       int64\n",
              "width      int64\n",
              "height     int64\n",
              "onpix      int64\n",
              "xbar       int64\n",
              "ybar       int64\n",
              "x2bar      int64\n",
              "y2bar      int64\n",
              "xybar      int64\n",
              "x2ybar     int64\n",
              "xy2bar     int64\n",
              "xedge      int64\n",
              "xedgey     int64\n",
              "yedge      int64\n",
              "yedgex     int64\n",
              "dtype: object"
            ]
          },
          "metadata": {
            "tags": []
          },
          "execution_count": 4
        }
      ]
    },
    {
      "cell_type": "code",
      "metadata": {
        "colab": {
          "base_uri": "https://localhost:8080/",
          "height": 206
        },
        "id": "WexRRDQGz6o9",
        "outputId": "48777280-0330-4c99-9978-8e0d66e84f28"
      },
      "source": [
        "# первые 5 строк\n",
        "data.head()"
      ],
      "execution_count": 5,
      "outputs": [
        {
          "output_type": "execute_result",
          "data": {
            "text/html": [
              "<div>\n",
              "<style scoped>\n",
              "    .dataframe tbody tr th:only-of-type {\n",
              "        vertical-align: middle;\n",
              "    }\n",
              "\n",
              "    .dataframe tbody tr th {\n",
              "        vertical-align: top;\n",
              "    }\n",
              "\n",
              "    .dataframe thead th {\n",
              "        text-align: right;\n",
              "    }\n",
              "</style>\n",
              "<table border=\"1\" class=\"dataframe\">\n",
              "  <thead>\n",
              "    <tr style=\"text-align: right;\">\n",
              "      <th></th>\n",
              "      <th>letter</th>\n",
              "      <th>xbox</th>\n",
              "      <th>ybox</th>\n",
              "      <th>width</th>\n",
              "      <th>height</th>\n",
              "      <th>onpix</th>\n",
              "      <th>xbar</th>\n",
              "      <th>ybar</th>\n",
              "      <th>x2bar</th>\n",
              "      <th>y2bar</th>\n",
              "      <th>xybar</th>\n",
              "      <th>x2ybar</th>\n",
              "      <th>xy2bar</th>\n",
              "      <th>xedge</th>\n",
              "      <th>xedgey</th>\n",
              "      <th>yedge</th>\n",
              "      <th>yedgex</th>\n",
              "    </tr>\n",
              "  </thead>\n",
              "  <tbody>\n",
              "    <tr>\n",
              "      <th>0</th>\n",
              "      <td>T</td>\n",
              "      <td>2</td>\n",
              "      <td>8</td>\n",
              "      <td>3</td>\n",
              "      <td>5</td>\n",
              "      <td>1</td>\n",
              "      <td>8</td>\n",
              "      <td>13</td>\n",
              "      <td>0</td>\n",
              "      <td>6</td>\n",
              "      <td>6</td>\n",
              "      <td>10</td>\n",
              "      <td>8</td>\n",
              "      <td>0</td>\n",
              "      <td>8</td>\n",
              "      <td>0</td>\n",
              "      <td>8</td>\n",
              "    </tr>\n",
              "    <tr>\n",
              "      <th>1</th>\n",
              "      <td>I</td>\n",
              "      <td>5</td>\n",
              "      <td>12</td>\n",
              "      <td>3</td>\n",
              "      <td>7</td>\n",
              "      <td>2</td>\n",
              "      <td>10</td>\n",
              "      <td>5</td>\n",
              "      <td>5</td>\n",
              "      <td>4</td>\n",
              "      <td>13</td>\n",
              "      <td>3</td>\n",
              "      <td>9</td>\n",
              "      <td>2</td>\n",
              "      <td>8</td>\n",
              "      <td>4</td>\n",
              "      <td>10</td>\n",
              "    </tr>\n",
              "    <tr>\n",
              "      <th>2</th>\n",
              "      <td>D</td>\n",
              "      <td>4</td>\n",
              "      <td>11</td>\n",
              "      <td>6</td>\n",
              "      <td>8</td>\n",
              "      <td>6</td>\n",
              "      <td>10</td>\n",
              "      <td>6</td>\n",
              "      <td>2</td>\n",
              "      <td>6</td>\n",
              "      <td>10</td>\n",
              "      <td>3</td>\n",
              "      <td>7</td>\n",
              "      <td>3</td>\n",
              "      <td>7</td>\n",
              "      <td>3</td>\n",
              "      <td>9</td>\n",
              "    </tr>\n",
              "    <tr>\n",
              "      <th>3</th>\n",
              "      <td>N</td>\n",
              "      <td>7</td>\n",
              "      <td>11</td>\n",
              "      <td>6</td>\n",
              "      <td>6</td>\n",
              "      <td>3</td>\n",
              "      <td>5</td>\n",
              "      <td>9</td>\n",
              "      <td>4</td>\n",
              "      <td>6</td>\n",
              "      <td>4</td>\n",
              "      <td>4</td>\n",
              "      <td>10</td>\n",
              "      <td>6</td>\n",
              "      <td>10</td>\n",
              "      <td>2</td>\n",
              "      <td>8</td>\n",
              "    </tr>\n",
              "    <tr>\n",
              "      <th>4</th>\n",
              "      <td>G</td>\n",
              "      <td>2</td>\n",
              "      <td>1</td>\n",
              "      <td>3</td>\n",
              "      <td>1</td>\n",
              "      <td>1</td>\n",
              "      <td>8</td>\n",
              "      <td>6</td>\n",
              "      <td>6</td>\n",
              "      <td>6</td>\n",
              "      <td>6</td>\n",
              "      <td>5</td>\n",
              "      <td>9</td>\n",
              "      <td>1</td>\n",
              "      <td>7</td>\n",
              "      <td>5</td>\n",
              "      <td>10</td>\n",
              "    </tr>\n",
              "  </tbody>\n",
              "</table>\n",
              "</div>"
            ],
            "text/plain": [
              "  letter  xbox  ybox  width  height  ...  xy2bar  xedge  xedgey  yedge  yedgex\n",
              "0      T     2     8      3       5  ...       8      0       8      0       8\n",
              "1      I     5    12      3       7  ...       9      2       8      4      10\n",
              "2      D     4    11      6       8  ...       7      3       7      3       9\n",
              "3      N     7    11      6       6  ...      10      6      10      2       8\n",
              "4      G     2     1      3       1  ...       9      1       7      5      10\n",
              "\n",
              "[5 rows x 17 columns]"
            ]
          },
          "metadata": {
            "tags": []
          },
          "execution_count": 5
        }
      ]
    },
    {
      "cell_type": "code",
      "metadata": {
        "colab": {
          "base_uri": "https://localhost:8080/",
          "height": 320
        },
        "id": "05j42OAZz99o",
        "outputId": "b78b0901-d399-4e29-a74e-15bc8afe37b6"
      },
      "source": [
        "# статистические характеристики признаков\n",
        "data.describe()"
      ],
      "execution_count": 6,
      "outputs": [
        {
          "output_type": "execute_result",
          "data": {
            "text/html": [
              "<div>\n",
              "<style scoped>\n",
              "    .dataframe tbody tr th:only-of-type {\n",
              "        vertical-align: middle;\n",
              "    }\n",
              "\n",
              "    .dataframe tbody tr th {\n",
              "        vertical-align: top;\n",
              "    }\n",
              "\n",
              "    .dataframe thead th {\n",
              "        text-align: right;\n",
              "    }\n",
              "</style>\n",
              "<table border=\"1\" class=\"dataframe\">\n",
              "  <thead>\n",
              "    <tr style=\"text-align: right;\">\n",
              "      <th></th>\n",
              "      <th>xbox</th>\n",
              "      <th>ybox</th>\n",
              "      <th>width</th>\n",
              "      <th>height</th>\n",
              "      <th>onpix</th>\n",
              "      <th>xbar</th>\n",
              "      <th>ybar</th>\n",
              "      <th>x2bar</th>\n",
              "      <th>y2bar</th>\n",
              "      <th>xybar</th>\n",
              "      <th>x2ybar</th>\n",
              "      <th>xy2bar</th>\n",
              "      <th>xedge</th>\n",
              "      <th>xedgey</th>\n",
              "      <th>yedge</th>\n",
              "      <th>yedgex</th>\n",
              "    </tr>\n",
              "  </thead>\n",
              "  <tbody>\n",
              "    <tr>\n",
              "      <th>count</th>\n",
              "      <td>20000.000000</td>\n",
              "      <td>20000.000000</td>\n",
              "      <td>20000.000000</td>\n",
              "      <td>20000.00000</td>\n",
              "      <td>20000.000000</td>\n",
              "      <td>20000.000000</td>\n",
              "      <td>20000.000000</td>\n",
              "      <td>20000.000000</td>\n",
              "      <td>20000.000000</td>\n",
              "      <td>20000.000000</td>\n",
              "      <td>20000.00000</td>\n",
              "      <td>20000.000000</td>\n",
              "      <td>20000.000000</td>\n",
              "      <td>20000.000000</td>\n",
              "      <td>20000.000000</td>\n",
              "      <td>20000.00000</td>\n",
              "    </tr>\n",
              "    <tr>\n",
              "      <th>mean</th>\n",
              "      <td>4.023550</td>\n",
              "      <td>7.035500</td>\n",
              "      <td>5.121850</td>\n",
              "      <td>5.37245</td>\n",
              "      <td>3.505850</td>\n",
              "      <td>6.897600</td>\n",
              "      <td>7.500450</td>\n",
              "      <td>4.628600</td>\n",
              "      <td>5.178650</td>\n",
              "      <td>8.282050</td>\n",
              "      <td>6.45400</td>\n",
              "      <td>7.929000</td>\n",
              "      <td>3.046100</td>\n",
              "      <td>8.338850</td>\n",
              "      <td>3.691750</td>\n",
              "      <td>7.80120</td>\n",
              "    </tr>\n",
              "    <tr>\n",
              "      <th>std</th>\n",
              "      <td>1.913212</td>\n",
              "      <td>3.304555</td>\n",
              "      <td>2.014573</td>\n",
              "      <td>2.26139</td>\n",
              "      <td>2.190458</td>\n",
              "      <td>2.026035</td>\n",
              "      <td>2.325354</td>\n",
              "      <td>2.699968</td>\n",
              "      <td>2.380823</td>\n",
              "      <td>2.488475</td>\n",
              "      <td>2.63107</td>\n",
              "      <td>2.080619</td>\n",
              "      <td>2.332541</td>\n",
              "      <td>1.546722</td>\n",
              "      <td>2.567073</td>\n",
              "      <td>1.61747</td>\n",
              "    </tr>\n",
              "    <tr>\n",
              "      <th>min</th>\n",
              "      <td>0.000000</td>\n",
              "      <td>0.000000</td>\n",
              "      <td>0.000000</td>\n",
              "      <td>0.00000</td>\n",
              "      <td>0.000000</td>\n",
              "      <td>0.000000</td>\n",
              "      <td>0.000000</td>\n",
              "      <td>0.000000</td>\n",
              "      <td>0.000000</td>\n",
              "      <td>0.000000</td>\n",
              "      <td>0.00000</td>\n",
              "      <td>0.000000</td>\n",
              "      <td>0.000000</td>\n",
              "      <td>0.000000</td>\n",
              "      <td>0.000000</td>\n",
              "      <td>0.00000</td>\n",
              "    </tr>\n",
              "    <tr>\n",
              "      <th>25%</th>\n",
              "      <td>3.000000</td>\n",
              "      <td>5.000000</td>\n",
              "      <td>4.000000</td>\n",
              "      <td>4.00000</td>\n",
              "      <td>2.000000</td>\n",
              "      <td>6.000000</td>\n",
              "      <td>6.000000</td>\n",
              "      <td>3.000000</td>\n",
              "      <td>4.000000</td>\n",
              "      <td>7.000000</td>\n",
              "      <td>5.00000</td>\n",
              "      <td>7.000000</td>\n",
              "      <td>1.000000</td>\n",
              "      <td>8.000000</td>\n",
              "      <td>2.000000</td>\n",
              "      <td>7.00000</td>\n",
              "    </tr>\n",
              "    <tr>\n",
              "      <th>50%</th>\n",
              "      <td>4.000000</td>\n",
              "      <td>7.000000</td>\n",
              "      <td>5.000000</td>\n",
              "      <td>6.00000</td>\n",
              "      <td>3.000000</td>\n",
              "      <td>7.000000</td>\n",
              "      <td>7.000000</td>\n",
              "      <td>4.000000</td>\n",
              "      <td>5.000000</td>\n",
              "      <td>8.000000</td>\n",
              "      <td>6.00000</td>\n",
              "      <td>8.000000</td>\n",
              "      <td>3.000000</td>\n",
              "      <td>8.000000</td>\n",
              "      <td>3.000000</td>\n",
              "      <td>8.00000</td>\n",
              "    </tr>\n",
              "    <tr>\n",
              "      <th>75%</th>\n",
              "      <td>5.000000</td>\n",
              "      <td>9.000000</td>\n",
              "      <td>6.000000</td>\n",
              "      <td>7.00000</td>\n",
              "      <td>5.000000</td>\n",
              "      <td>8.000000</td>\n",
              "      <td>9.000000</td>\n",
              "      <td>6.000000</td>\n",
              "      <td>7.000000</td>\n",
              "      <td>10.000000</td>\n",
              "      <td>8.00000</td>\n",
              "      <td>9.000000</td>\n",
              "      <td>4.000000</td>\n",
              "      <td>9.000000</td>\n",
              "      <td>5.000000</td>\n",
              "      <td>9.00000</td>\n",
              "    </tr>\n",
              "    <tr>\n",
              "      <th>max</th>\n",
              "      <td>15.000000</td>\n",
              "      <td>15.000000</td>\n",
              "      <td>15.000000</td>\n",
              "      <td>15.00000</td>\n",
              "      <td>15.000000</td>\n",
              "      <td>15.000000</td>\n",
              "      <td>15.000000</td>\n",
              "      <td>15.000000</td>\n",
              "      <td>15.000000</td>\n",
              "      <td>15.000000</td>\n",
              "      <td>15.00000</td>\n",
              "      <td>15.000000</td>\n",
              "      <td>15.000000</td>\n",
              "      <td>15.000000</td>\n",
              "      <td>15.000000</td>\n",
              "      <td>15.00000</td>\n",
              "    </tr>\n",
              "  </tbody>\n",
              "</table>\n",
              "</div>"
            ],
            "text/plain": [
              "               xbox          ybox  ...         yedge       yedgex\n",
              "count  20000.000000  20000.000000  ...  20000.000000  20000.00000\n",
              "mean       4.023550      7.035500  ...      3.691750      7.80120\n",
              "std        1.913212      3.304555  ...      2.567073      1.61747\n",
              "min        0.000000      0.000000  ...      0.000000      0.00000\n",
              "25%        3.000000      5.000000  ...      2.000000      7.00000\n",
              "50%        4.000000      7.000000  ...      3.000000      8.00000\n",
              "75%        5.000000      9.000000  ...      5.000000      9.00000\n",
              "max       15.000000     15.000000  ...     15.000000     15.00000\n",
              "\n",
              "[8 rows x 16 columns]"
            ]
          },
          "metadata": {
            "tags": []
          },
          "execution_count": 6
        }
      ]
    },
    {
      "cell_type": "code",
      "metadata": {
        "colab": {
          "base_uri": "https://localhost:8080/"
        },
        "id": "V886EXR_0AV9",
        "outputId": "f1b8d203-882c-4e47-8e13-ecf5b8a6e507"
      },
      "source": [
        "# Количество пропусков в данных\n",
        "data.isna().sum()"
      ],
      "execution_count": 7,
      "outputs": [
        {
          "output_type": "execute_result",
          "data": {
            "text/plain": [
              "letter    0\n",
              "xbox      0\n",
              "ybox      0\n",
              "width     0\n",
              "height    0\n",
              "onpix     0\n",
              "xbar      0\n",
              "ybar      0\n",
              "x2bar     0\n",
              "y2bar     0\n",
              "xybar     0\n",
              "x2ybar    0\n",
              "xy2bar    0\n",
              "xedge     0\n",
              "xedgey    0\n",
              "yedge     0\n",
              "yedgex    0\n",
              "dtype: int64"
            ]
          },
          "metadata": {
            "tags": []
          },
          "execution_count": 7
        }
      ]
    },
    {
      "cell_type": "code",
      "metadata": {
        "colab": {
          "base_uri": "https://localhost:8080/"
        },
        "id": "GrlbzYJY0DRA",
        "outputId": "65664d44-6a98-4253-c3b8-ba75b7223a72"
      },
      "source": [
        "# Количество уникальных значений для каждого признака\n",
        "data.nunique()"
      ],
      "execution_count": 8,
      "outputs": [
        {
          "output_type": "execute_result",
          "data": {
            "text/plain": [
              "letter    26\n",
              "xbox      16\n",
              "ybox      16\n",
              "width     16\n",
              "height    16\n",
              "onpix     16\n",
              "xbar      16\n",
              "ybar      16\n",
              "x2bar     16\n",
              "y2bar     16\n",
              "xybar     16\n",
              "x2ybar    16\n",
              "xy2bar    16\n",
              "xedge     16\n",
              "xedgey    16\n",
              "yedge     16\n",
              "yedgex    16\n",
              "dtype: int64"
            ]
          },
          "metadata": {
            "tags": []
          },
          "execution_count": 8
        }
      ]
    },
    {
      "cell_type": "markdown",
      "metadata": {
        "id": "uPJiZxQ071yW"
      },
      "source": [
        "###**Разделение выборки на обучающую и тестовую**"
      ]
    },
    {
      "cell_type": "code",
      "metadata": {
        "id": "GKtHGPFO77Yq"
      },
      "source": [
        "# разделим данные на целевой столбец и признаки\n",
        "X = data.drop(['width', 'letter'], axis = 1)\n",
        "Y = data['width']"
      ],
      "execution_count": 84,
      "outputs": []
    },
    {
      "cell_type": "code",
      "metadata": {
        "colab": {
          "base_uri": "https://localhost:8080/"
        },
        "id": "Em0gacEN8CK8",
        "outputId": "387d1cde-aba4-4d3b-d61c-fc53b61b1c9d"
      },
      "source": [
        "# с использованием метода train_test_split разделим выборку на обучающую и тестовую\n",
        "X_train, X_test, Y_train, Y_test = train_test_split(X, Y, test_size=0.25, random_state=1)\n",
        "X_train.shape, X_test.shape, Y_train.shape, Y_test.shape\n",
        "print('Входные параметры обучающей выборки:\\n\\n',X_train.head(), \\\n",
        "      '\\n\\nВходные параметры тестовой выборки:\\n\\n', X_test.head(), \\\n",
        "      '\\n\\nВыходные параметры обучающей выборки:\\n\\n', Y_train.head(), \\\n",
        "      '\\n\\nВыходные параметры тестовой выборки:\\n\\n', Y_test.head())"
      ],
      "execution_count": 15,
      "outputs": [
        {
          "output_type": "stream",
          "text": [
            "Входные параметры обучающей выборки:\n",
            "\n",
            "        xbox  ybox  height  onpix  xbar  ...  xy2bar  xedge  xedgey  yedge  yedgex\n",
            "18960     2     5       4      3     9  ...       7      4       7      5       9\n",
            "11353     5     6       4      4     2  ...       8      5      11      1       7\n",
            "7449      2     4       3      1     7  ...       8      1      11      1       7\n",
            "14308     1     0       0      0     4  ...      11      2       8      2      10\n",
            "11889     9    13       7      4     7  ...       9      6      11      3       7\n",
            "\n",
            "[5 rows x 15 columns] \n",
            "\n",
            "Входные параметры тестовой выборки:\n",
            "\n",
            "        xbox  ybox  height  onpix  xbar  ...  xy2bar  xedge  xedgey  yedge  yedgex\n",
            "11456     4     6       4      3     5  ...       6      2       8      3       8\n",
            "16528     2     3       2      2     7  ...       5      2       8      2       7\n",
            "3253      3     4       3      1     4  ...       7      2      11      1       8\n",
            "18614     3     7       5      4     6  ...       7      2       9      7       9\n",
            "1544      5     8       6      6     4  ...       9      3       8      3       5\n",
            "\n",
            "[5 rows x 15 columns] \n",
            "\n",
            "Выходные параметры обучающей выборки:\n",
            "\n",
            " 18960    4\n",
            "11353    5\n",
            "7449     2\n",
            "14308    1\n",
            "11889    8\n",
            "Name: width, dtype: int64 \n",
            "\n",
            "Выходные параметры тестовой выборки:\n",
            "\n",
            " 11456    4\n",
            "16528    2\n",
            "3253     4\n",
            "18614    4\n",
            "1544     7\n",
            "Name: width, dtype: int64\n"
          ],
          "name": "stdout"
        }
      ]
    },
    {
      "cell_type": "markdown",
      "metadata": {
        "id": "G93HyTbB8gUf"
      },
      "source": [
        "###**Линейная модель**"
      ]
    },
    {
      "cell_type": "code",
      "metadata": {
        "colab": {
          "base_uri": "https://localhost:8080/",
          "height": 374
        },
        "id": "SZvZvjqE8fBB",
        "outputId": "be88f1c7-bfa1-4adb-d9e9-65cb5a1a00a0"
      },
      "source": [
        "# построим корреляционную матрицу\n",
        "fig, ax = plt.subplots(figsize=(10,5))\n",
        "sns.heatmap(data.corr(method='pearson'), ax=ax, annot=True, fmt='.2f')"
      ],
      "execution_count": 85,
      "outputs": [
        {
          "output_type": "execute_result",
          "data": {
            "text/plain": [
              "<matplotlib.axes._subplots.AxesSubplot at 0x7f215dc2a6d0>"
            ]
          },
          "metadata": {
            "tags": []
          },
          "execution_count": 85
        },
        {
          "output_type": "display_data",
          "data": {
            "image/png": "[encoded data removed]",
            "text/plain": [
              "<Figure size 720x360 with 2 Axes>"
            ]
          },
          "metadata": {
            "tags": [],
            "needs_background": "light"
          }
        }
      ]
    },
    {
      "cell_type": "code",
      "metadata": {
        "colab": {
          "base_uri": "https://localhost:8080/",
          "height": 356
        },
        "id": "fkzSZmfw-krL",
        "outputId": "d05d1bd9-8a0a-4808-e2f3-6d9cfa96bbfe"
      },
      "source": [
        "fig, ax = plt.subplots(figsize=(5,5)) \n",
        "sns.scatterplot(ax=ax, x='width', y='xbox', data=data)"
      ],
      "execution_count": 92,
      "outputs": [
        {
          "output_type": "execute_result",
          "data": {
            "text/plain": [
              "<matplotlib.axes._subplots.AxesSubplot at 0x7f21600c42d0>"
            ]
          },
          "metadata": {
            "tags": []
          },
          "execution_count": 92
        },
        {
          "output_type": "display_data",
          "data": {
            "image/png": "[encoded data removed]",
            "text/plain": [
              "<Figure size 360x360 with 1 Axes>"
            ]
          },
          "metadata": {
            "tags": [],
            "needs_background": "light"
          }
        }
      ]
    },
    {
      "cell_type": "code",
      "metadata": {
        "id": "UWqxJtRy-sAD"
      },
      "source": [
        "# Аналитическое вычисление коэффициентов регрессии\n",
        "def analytic_regr_coef(x_array : np.ndarray, \n",
        "                       y_array : np.ndarray) -> Tuple[float, float]:\n",
        "    x_mean = np.mean(x_array)\n",
        "    y_mean = np.mean(y_array)\n",
        "    var1 = np.sum([(x-x_mean)**2 for x in x_array])\n",
        "    cov1 = np.sum([(x-x_mean)*(y-x_mean) for x, y in zip(x_array, y_array)])\n",
        "    b1 = cov1 / var1\n",
        "    b0 = y_mean - b1*x_mean\n",
        "    return b0, b1"
      ],
      "execution_count": 93,
      "outputs": []
    },
    {
      "cell_type": "code",
      "metadata": {
        "id": "1ZPUTmEx-1l9"
      },
      "source": [
        "x_array = data['width'].values\n",
        "y_array = data['xbox'].values"
      ],
      "execution_count": 94,
      "outputs": []
    },
    {
      "cell_type": "code",
      "metadata": {
        "colab": {
          "base_uri": "https://localhost:8080/"
        },
        "id": "eFzWM8oO-4fL",
        "outputId": "1b449c94-d727-43ae-f7f1-788e8a448202"
      },
      "source": [
        "b0, b1 = analytic_regr_coef(x_array, y_array)\n",
        "b0, b1"
      ],
      "execution_count": 95,
      "outputs": [
        {
          "output_type": "execute_result",
          "data": {
            "text/plain": [
              "(-0.11834008328079193, 0.8086707114188803)"
            ]
          },
          "metadata": {
            "tags": []
          },
          "execution_count": 95
        }
      ]
    },
    {
      "cell_type": "code",
      "metadata": {
        "id": "5macgJwB-9jK"
      },
      "source": [
        "# Вычисление значений y на основе x для регрессии\n",
        "def y_regr(x_array : np.ndarray, b0: float, b1: float) -> np.ndarray:\n",
        "    res = [b1*x+b0 for x in x_array]\n",
        "    return res"
      ],
      "execution_count": 96,
      "outputs": []
    },
    {
      "cell_type": "code",
      "metadata": {
        "id": "gPADguQN_Bp9"
      },
      "source": [
        "y_array_regr = y_regr(x_array, b0, b1)"
      ],
      "execution_count": 97,
      "outputs": []
    },
    {
      "cell_type": "code",
      "metadata": {
        "colab": {
          "base_uri": "https://localhost:8080/",
          "height": 268
        },
        "id": "ntD2GGEi_H1W",
        "outputId": "eacd6a53-4139-4610-bbee-79ef146e143d"
      },
      "source": [
        "plt.plot(x_array, y_array, 'g.')\n",
        "plt.plot(x_array, y_array_regr, 'b', linewidth=2.0)\n",
        "plt.show()"
      ],
      "execution_count": 98,
      "outputs": [
        {
          "output_type": "display_data",
          "data": {
            "image/png": "[encoded data removed]",
            "text/plain": [
              "<Figure size 432x288 with 1 Axes>"
            ]
          },
          "metadata": {
            "tags": [],
            "needs_background": "light"
          }
        }
      ]
    },
    {
      "cell_type": "code",
      "metadata": {
        "id": "xMwsyjqbBlk0"
      },
      "source": [
        "# Простейшая реализация градиентного спуска\n",
        "def gradient_descent(x_array : np.ndarray,\n",
        "                     y_array : np.ndarray,\n",
        "                     b0_0 : float,\n",
        "                     b1_0 : float,\n",
        "                     epochs : int,\n",
        "                     learning_rate : float = 0.001\n",
        "                    ) -> Tuple[float, float]:\n",
        "    # Значения для коэффициентов по умолчанию\n",
        "    b0, b1 = b0_0, b1_0\n",
        "    k = float(len(x_array))\n",
        "    for i in range(epochs): \n",
        "        # Вычисление новых предсказанных значений\n",
        "        # используется векторизованное умножение и сложение для вектора и константы\n",
        "        y_pred = b1 * x_array + b0\n",
        "        # Расчет градиентов\n",
        "        # np.multiply - поэлементное умножение векторов\n",
        "        dL_db1 = (-2/k) * np.sum(np.multiply(x_array, (y_array - y_pred)))\n",
        "        dL_db0 = (-2/k) * np.sum(y_array - y_pred)\n",
        "        # Изменение значений коэффициентов:\n",
        "        b1 = b1 - learning_rate * dL_db1\n",
        "        b0 = b0 - learning_rate * dL_db0\n",
        "    # Результирующие значения\n",
        "    y_pred = b1 * x_array + b0\n",
        "    return b0, b1, y_pred"
      ],
      "execution_count": 47,
      "outputs": []
    },
    {
      "cell_type": "code",
      "metadata": {
        "id": "zjY1ABSaBmRb"
      },
      "source": [
        "def show_gradient_descent(epochs, b0_0, b1_0):\n",
        "    grad_b0, grad_b1, grad_y_pred = gradient_descent(x_array, y_array, b0_0, b1_0, epochs)\n",
        "    print('b0 = {} - (теоретический), {} - (градиентный спуск)'.format(b0, grad_b0))\n",
        "    print('b1 = {} - (теоретический), {} - (градиентный спуск)'.format(b1, grad_b1))\n",
        "    print('MSE = {}'.format(mean_squared_error(y_array_regr, grad_y_pred)))\n",
        "    plt.plot(x_array, y_array, 'g.')\n",
        "    plt.plot(x_array, y_array_regr, 'b', linewidth=2.0)\n",
        "    plt.plot(x_array, grad_y_pred, 'r', linewidth=2.0)\n",
        "    plt.show()"
      ],
      "execution_count": 48,
      "outputs": []
    },
    {
      "cell_type": "code",
      "metadata": {
        "colab": {
          "base_uri": "https://localhost:8080/",
          "height": 320
        },
        "id": "S4YDeNkuBqt6",
        "outputId": "f0bb5531-7605-4c4b-a9b5-6be8a7cf0088"
      },
      "source": [
        "# Примеры использования градиентного спуска\n",
        "show_gradient_descent(10, 0, 0)"
      ],
      "execution_count": 49,
      "outputs": [
        {
          "output_type": "stream",
          "text": [
            "b0 = -0.11834008328079193 - (теоретический), 0.06111974179271705 - (градиентный спуск)\n",
            "b1 = 0.8086707114188803 - (теоретический), 0.36383722800555685 - (градиентный спуск)\n",
            "MSE = 5.208469546034996\n"
          ],
          "name": "stdout"
        },
        {
          "output_type": "display_data",
          "data": {
            "image/png": "[encoded data removed]",
            "text/plain": [
              "<Figure size 432x288 with 1 Axes>"
            ]
          },
          "metadata": {
            "tags": [],
            "needs_background": "light"
          }
        }
      ]
    },
    {
      "cell_type": "code",
      "metadata": {
        "colab": {
          "base_uri": "https://localhost:8080/",
          "height": 320
        },
        "id": "R8_wGKGtBsZu",
        "outputId": "0b504a41-9f18-4e81-868a-05e10491050a"
      },
      "source": [
        "show_gradient_descent(1000, 0, 0)"
      ],
      "execution_count": 50,
      "outputs": [
        {
          "output_type": "stream",
          "text": [
            "b0 = -0.11834008328079193 - (теоретический), 0.07316842040799902 - (градиентный спуск)\n",
            "b1 = 0.8086707114188803 - (теоретический), 0.7761497628789418 - (градиентный спуск)\n",
            "MSE = 0.004914167528461014\n"
          ],
          "name": "stdout"
        },
        {
          "output_type": "display_data",
          "data": {
            "image/png": "[encoded data removed]",
            "text/plain": [
              "<Figure size 432x288 with 1 Axes>"
            ]
          },
          "metadata": {
            "tags": [],
            "needs_background": "light"
          }
        }
      ]
    },
    {
      "cell_type": "code",
      "metadata": {
        "colab": {
          "base_uri": "https://localhost:8080/",
          "height": 320
        },
        "id": "JVGuvkA9BuJ0",
        "outputId": "a5b35eb8-1999-4e37-f8b0-132b686d8b09"
      },
      "source": [
        "show_gradient_descent(10000, 0, 0)"
      ],
      "execution_count": 51,
      "outputs": [
        {
          "output_type": "stream",
          "text": [
            "b0 = -0.11834008328079193 - (теоретический), -0.09997595232764354 - (градиентный спуск)\n",
            "b1 = 0.8086707114188803 - (теоретический), 0.8055522130430663 - (градиентный спуск)\n",
            "MSE = 4.518711286592616e-05\n"
          ],
          "name": "stdout"
        },
        {
          "output_type": "display_data",
          "data": {
            "image/png": "[encoded data removed]",
            "text/plain": [
              "<Figure size 432x288 with 1 Axes>"
            ]
          },
          "metadata": {
            "tags": [],
            "needs_background": "light"
          }
        }
      ]
    },
    {
      "cell_type": "code",
      "metadata": {
        "colab": {
          "base_uri": "https://localhost:8080/",
          "height": 320
        },
        "id": "71iDWke2BwN3",
        "outputId": "8818dbf0-4bbb-429c-abf6-360220791ef3"
      },
      "source": [
        "show_gradient_descent(10, -2, 5)"
      ],
      "execution_count": 52,
      "outputs": [
        {
          "output_type": "stream",
          "text": [
            "b0 = -0.11834008328079193 - (теоретический), -2.2967059048977685 - (градиентный спуск)\n",
            "b1 = 0.8086707114188803 - (теоретический), 3.2130337566890645 - (градиентный спуск)\n",
            "MSE = 126.20792311531724\n"
          ],
          "name": "stdout"
        },
        {
          "output_type": "display_data",
          "data": {
            "image/png": "[encoded data removed]",
            "text/plain": [
              "<Figure size 432x288 with 1 Axes>"
            ]
          },
          "metadata": {
            "tags": [],
            "needs_background": "light"
          }
        }
      ]
    },
    {
      "cell_type": "code",
      "metadata": {
        "colab": {
          "base_uri": "https://localhost:8080/"
        },
        "id": "qIojS2IwB2PR",
        "outputId": "22ebd418-64cf-4fbc-846f-7758b834c0ba"
      },
      "source": [
        "# Обучим линейную регрессию и сравним коэффициенты с рассчитанными ранее\n",
        "reg1 = LinearRegression().fit(x_array.reshape(-1, 1), y_array.reshape(-1, 1))\n",
        "(b1, reg1.coef_), (b0, reg1.intercept_)"
      ],
      "execution_count": 53,
      "outputs": [
        {
          "output_type": "execute_result",
          "data": {
            "text/plain": [
              "((0.8086707114188803, array([[0.80867071]])),\n",
              " (-0.11834008328079193, array([-0.11834008])))"
            ]
          },
          "metadata": {
            "tags": []
          },
          "execution_count": 53
        }
      ]
    },
    {
      "cell_type": "markdown",
      "metadata": {
        "id": "PY3AqoufCQtV"
      },
      "source": [
        "###**SVM**"
      ]
    },
    {
      "cell_type": "code",
      "metadata": {
        "colab": {
          "base_uri": "https://localhost:8080/",
          "height": 339
        },
        "id": "e1s0MDTYCSYa",
        "outputId": "0e26b209-4e78-4d45-ef35-48a1427c6227"
      },
      "source": [
        "fig, ax = plt.subplots(figsize=(5,5)) \n",
        "sns.scatterplot(ax=ax, x=x_array, y=y_array)"
      ],
      "execution_count": 54,
      "outputs": [
        {
          "output_type": "execute_result",
          "data": {
            "text/plain": [
              "<matplotlib.axes._subplots.AxesSubplot at 0x7f215fea1d90>"
            ]
          },
          "metadata": {
            "tags": []
          },
          "execution_count": 54
        },
        {
          "output_type": "display_data",
          "data": {
            "image/png": "[encoded data removed]",
            "text/plain": [
              "<Figure size 360x360 with 1 Axes>"
            ]
          },
          "metadata": {
            "tags": [],
            "needs_background": "light"
          }
        }
      ]
    },
    {
      "cell_type": "code",
      "metadata": {
        "id": "zgBYyYHjCcjW"
      },
      "source": [
        "def plot_regr(clf):\n",
        "    title = clf.__repr__\n",
        "    clf.fit(x_array.reshape(-1, 1), y_array)\n",
        "    y_pred = clf.predict(x_array.reshape(-1, 1))\n",
        "    fig, ax = plt.subplots(figsize=(5,5))\n",
        "    ax.set_title(title)\n",
        "    ax.plot(x_array, y_array, 'b.')\n",
        "    ax.plot(x_array, y_pred, 'ro')\n",
        "    plt.show()"
      ],
      "execution_count": 55,
      "outputs": []
    },
    {
      "cell_type": "code",
      "metadata": {
        "colab": {
          "base_uri": "https://localhost:8080/",
          "height": 368
        },
        "id": "vqqHYuttCeVU",
        "outputId": "fdc3d733-c1cf-4d66-a6c4-9ee691420cf3"
      },
      "source": [
        "plot_regr(LinearSVR(C=1.0, max_iter=10000))"
      ],
      "execution_count": 56,
      "outputs": [
        {
          "output_type": "display_data",
          "data": {
            "image/png": "[encoded data removed]",
            "text/plain": [
              "<Figure size 360x360 with 1 Axes>"
            ]
          },
          "metadata": {
            "tags": [],
            "needs_background": "light"
          }
        }
      ]
    },
    {
      "cell_type": "code",
      "metadata": {
        "colab": {
          "base_uri": "https://localhost:8080/",
          "height": 353
        },
        "id": "txIBRMeaCrSG",
        "outputId": "fa8f060b-4ad8-43fb-e4cd-baf7b31d7cfa"
      },
      "source": [
        "plot_regr(SVR(gamma=0.2, C=1.0))"
      ],
      "execution_count": 64,
      "outputs": [
        {
          "output_type": "display_data",
          "data": {
            "image/png": "[encoded data removed]",
            "text/plain": [
              "<Figure size 360x360 with 1 Axes>"
            ]
          },
          "metadata": {
            "tags": [],
            "needs_background": "light"
          }
        }
      ]
    },
    {
      "cell_type": "markdown",
      "metadata": {
        "id": "Sddp30o5DFGF"
      },
      "source": [
        "###**Дерево решений**"
      ]
    },
    {
      "cell_type": "code",
      "metadata": {
        "colab": {
          "base_uri": "https://localhost:8080/"
        },
        "id": "Yo-KNRbHDHod",
        "outputId": "0cc57215-b8c0-4404-fe10-252bea691195"
      },
      "source": [
        "# Обучим дерево на всех признаках\n",
        "tree = DecisionTreeRegressor(random_state=1)\n",
        "tree.fit(X_train, Y_train)"
      ],
      "execution_count": 99,
      "outputs": [
        {
          "output_type": "execute_result",
          "data": {
            "text/plain": [
              "DecisionTreeRegressor(ccp_alpha=0.0, criterion='mse', max_depth=None,\n",
              "                      max_features=None, max_leaf_nodes=None,\n",
              "                      min_impurity_decrease=0.0, min_impurity_split=None,\n",
              "                      min_samples_leaf=1, min_samples_split=2,\n",
              "                      min_weight_fraction_leaf=0.0, presort='deprecated',\n",
              "                      random_state=1, splitter='best')"
            ]
          },
          "metadata": {
            "tags": []
          },
          "execution_count": 99
        }
      ]
    },
    {
      "cell_type": "code",
      "metadata": {
        "colab": {
          "base_uri": "https://localhost:8080/"
        },
        "id": "lf-fBNLvDNPK",
        "outputId": "58fb3487-1076-406a-d6d7-82bcac1a68a4"
      },
      "source": [
        "# Важность признаков\n",
        "list(zip(X_train.columns.values, tree.feature_importances_))"
      ],
      "execution_count": 100,
      "outputs": [
        {
          "output_type": "execute_result",
          "data": {
            "text/plain": [
              "[('xbox', 0.7590632983338205),\n",
              " ('ybox', 0.008120554385437245),\n",
              " ('height', 0.011457124814174375),\n",
              " ('onpix', 0.09034859242035889),\n",
              " ('xbar', 0.009826827298346543),\n",
              " ('ybar', 0.00639176136815112),\n",
              " ('x2bar', 0.02882453674866567),\n",
              " ('y2bar', 0.013351134043562153),\n",
              " ('xybar', 0.007931254908600558),\n",
              " ('x2ybar', 0.007557564775213297),\n",
              " ('xy2bar', 0.008202635866664415),\n",
              " ('xedge', 0.017103866004458516),\n",
              " ('xedgey', 0.007047375311687091),\n",
              " ('yedge', 0.01963098047882765),\n",
              " ('yedgex', 0.005142493242031915)]"
            ]
          },
          "metadata": {
            "tags": []
          },
          "execution_count": 100
        }
      ]
    },
    {
      "cell_type": "code",
      "metadata": {
        "colab": {
          "base_uri": "https://localhost:8080/"
        },
        "id": "ty69v02eDS5y",
        "outputId": "5c68539a-1212-43b3-9960-0c33f69aa6bc"
      },
      "source": [
        "sum(tree.feature_importances_)"
      ],
      "execution_count": 101,
      "outputs": [
        {
          "output_type": "execute_result",
          "data": {
            "text/plain": [
              "0.9999999999999998"
            ]
          },
          "metadata": {
            "tags": []
          },
          "execution_count": 101
        }
      ]
    },
    {
      "cell_type": "code",
      "metadata": {
        "id": "gx4fYqI6DYjx"
      },
      "source": [
        "def draw_feature_importances(tree_model, X_dataset, figsize=(10,5)):\n",
        "    \"\"\"\n",
        "    Вывод важности признаков в виде графика\n",
        "    \"\"\"\n",
        "    # Сортировка значений важности признаков по убыванию\n",
        "    list_to_sort = list(zip(X_dataset.columns.values, tree_model.feature_importances_))\n",
        "    sorted_list = sorted(list_to_sort, key=itemgetter(1), reverse = True)\n",
        "    # Названия признаков\n",
        "    labels = [x for x,_ in sorted_list]\n",
        "    # Важности признаков\n",
        "    data = [x for _,x in sorted_list]\n",
        "    # Вывод графика\n",
        "    fig, ax = plt.subplots(figsize=figsize)\n",
        "    ind = np.arange(len(labels))\n",
        "    plt.bar(ind, data)\n",
        "    plt.xticks(ind, labels, rotation='vertical')\n",
        "    # Вывод значений\n",
        "    for a,b in zip(ind, data):\n",
        "        plt.text(a-0.05, b+0.01, str(round(b,3)))\n",
        "    plt.show()\n",
        "    return labels, data"
      ],
      "execution_count": 102,
      "outputs": []
    },
    {
      "cell_type": "code",
      "metadata": {
        "colab": {
          "base_uri": "https://localhost:8080/",
          "height": 353
        },
        "id": "7iOtDcCGDbAa",
        "outputId": "eeec6537-8f0a-4703-aa7c-4348dd9a9465"
      },
      "source": [
        "tree_fl, tree_fd = draw_feature_importances(tree, X_train)"
      ],
      "execution_count": 103,
      "outputs": [
        {
          "output_type": "display_data",
          "data": {
            "image/png": "[encoded data removed]",
            "text/plain": [
              "<Figure size 720x360 with 1 Axes>"
            ]
          },
          "metadata": {
            "tags": [],
            "needs_background": "light"
          }
        }
      ]
    },
    {
      "cell_type": "code",
      "metadata": {
        "colab": {
          "base_uri": "https://localhost:8080/"
        },
        "id": "j-_kgS6iDf3G",
        "outputId": "cd6cb546-5c4b-45ad-a957-df0adc670115"
      },
      "source": [
        "# Список признаков, отсортированный на основе важности, и значения важности\n",
        "tree_fl, tree_fd"
      ],
      "execution_count": 104,
      "outputs": [
        {
          "output_type": "execute_result",
          "data": {
            "text/plain": [
              "(['xbox',\n",
              "  'onpix',\n",
              "  'x2bar',\n",
              "  'yedge',\n",
              "  'xedge',\n",
              "  'y2bar',\n",
              "  'height',\n",
              "  'xbar',\n",
              "  'xy2bar',\n",
              "  'ybox',\n",
              "  'xybar',\n",
              "  'x2ybar',\n",
              "  'xedgey',\n",
              "  'ybar',\n",
              "  'yedgex'],\n",
              " [0.7590632983338205,\n",
              "  0.09034859242035889,\n",
              "  0.02882453674866567,\n",
              "  0.01963098047882765,\n",
              "  0.017103866004458516,\n",
              "  0.013351134043562153,\n",
              "  0.011457124814174375,\n",
              "  0.009826827298346543,\n",
              "  0.008202635866664415,\n",
              "  0.008120554385437245,\n",
              "  0.007931254908600558,\n",
              "  0.007557564775213297,\n",
              "  0.007047375311687091,\n",
              "  0.00639176136815112,\n",
              "  0.005142493242031915])"
            ]
          },
          "metadata": {
            "tags": []
          },
          "execution_count": 104
        }
      ]
    },
    {
      "cell_type": "code",
      "metadata": {
        "colab": {
          "base_uri": "https://localhost:8080/",
          "height": 206
        },
        "id": "FCTBP3dzDqa9",
        "outputId": "d32bb910-b06a-4d41-8bff-925526ac68ae"
      },
      "source": [
        "X_train.head()"
      ],
      "execution_count": 105,
      "outputs": [
        {
          "output_type": "execute_result",
          "data": {
            "text/html": [
              "<div>\n",
              "<style scoped>\n",
              "    .dataframe tbody tr th:only-of-type {\n",
              "        vertical-align: middle;\n",
              "    }\n",
              "\n",
              "    .dataframe tbody tr th {\n",
              "        vertical-align: top;\n",
              "    }\n",
              "\n",
              "    .dataframe thead th {\n",
              "        text-align: right;\n",
              "    }\n",
              "</style>\n",
              "<table border=\"1\" class=\"dataframe\">\n",
              "  <thead>\n",
              "    <tr style=\"text-align: right;\">\n",
              "      <th></th>\n",
              "      <th>xbox</th>\n",
              "      <th>ybox</th>\n",
              "      <th>height</th>\n",
              "      <th>onpix</th>\n",
              "      <th>xbar</th>\n",
              "      <th>ybar</th>\n",
              "      <th>x2bar</th>\n",
              "      <th>y2bar</th>\n",
              "      <th>xybar</th>\n",
              "      <th>x2ybar</th>\n",
              "      <th>xy2bar</th>\n",
              "      <th>xedge</th>\n",
              "      <th>xedgey</th>\n",
              "      <th>yedge</th>\n",
              "      <th>yedgex</th>\n",
              "    </tr>\n",
              "  </thead>\n",
              "  <tbody>\n",
              "    <tr>\n",
              "      <th>18960</th>\n",
              "      <td>2</td>\n",
              "      <td>5</td>\n",
              "      <td>4</td>\n",
              "      <td>3</td>\n",
              "      <td>9</td>\n",
              "      <td>7</td>\n",
              "      <td>2</td>\n",
              "      <td>6</td>\n",
              "      <td>11</td>\n",
              "      <td>5</td>\n",
              "      <td>7</td>\n",
              "      <td>4</td>\n",
              "      <td>7</td>\n",
              "      <td>5</td>\n",
              "      <td>9</td>\n",
              "    </tr>\n",
              "    <tr>\n",
              "      <th>11353</th>\n",
              "      <td>5</td>\n",
              "      <td>6</td>\n",
              "      <td>4</td>\n",
              "      <td>4</td>\n",
              "      <td>2</td>\n",
              "      <td>11</td>\n",
              "      <td>2</td>\n",
              "      <td>3</td>\n",
              "      <td>10</td>\n",
              "      <td>10</td>\n",
              "      <td>8</td>\n",
              "      <td>5</td>\n",
              "      <td>11</td>\n",
              "      <td>1</td>\n",
              "      <td>7</td>\n",
              "    </tr>\n",
              "    <tr>\n",
              "      <th>7449</th>\n",
              "      <td>2</td>\n",
              "      <td>4</td>\n",
              "      <td>3</td>\n",
              "      <td>1</td>\n",
              "      <td>7</td>\n",
              "      <td>11</td>\n",
              "      <td>2</td>\n",
              "      <td>6</td>\n",
              "      <td>7</td>\n",
              "      <td>11</td>\n",
              "      <td>8</td>\n",
              "      <td>1</td>\n",
              "      <td>11</td>\n",
              "      <td>1</td>\n",
              "      <td>7</td>\n",
              "    </tr>\n",
              "    <tr>\n",
              "      <th>14308</th>\n",
              "      <td>1</td>\n",
              "      <td>0</td>\n",
              "      <td>0</td>\n",
              "      <td>0</td>\n",
              "      <td>4</td>\n",
              "      <td>6</td>\n",
              "      <td>5</td>\n",
              "      <td>2</td>\n",
              "      <td>7</td>\n",
              "      <td>6</td>\n",
              "      <td>11</td>\n",
              "      <td>2</td>\n",
              "      <td>8</td>\n",
              "      <td>2</td>\n",
              "      <td>10</td>\n",
              "    </tr>\n",
              "    <tr>\n",
              "      <th>11889</th>\n",
              "      <td>9</td>\n",
              "      <td>13</td>\n",
              "      <td>7</td>\n",
              "      <td>4</td>\n",
              "      <td>7</td>\n",
              "      <td>7</td>\n",
              "      <td>3</td>\n",
              "      <td>7</td>\n",
              "      <td>9</td>\n",
              "      <td>9</td>\n",
              "      <td>9</td>\n",
              "      <td>6</td>\n",
              "      <td>11</td>\n",
              "      <td>3</td>\n",
              "      <td>7</td>\n",
              "    </tr>\n",
              "  </tbody>\n",
              "</table>\n",
              "</div>"
            ],
            "text/plain": [
              "       xbox  ybox  height  onpix  xbar  ...  xy2bar  xedge  xedgey  yedge  yedgex\n",
              "18960     2     5       4      3     9  ...       7      4       7      5       9\n",
              "11353     5     6       4      4     2  ...       8      5      11      1       7\n",
              "7449      2     4       3      1     7  ...       8      1      11      1       7\n",
              "14308     1     0       0      0     4  ...      11      2       8      2      10\n",
              "11889     9    13       7      4     7  ...       9      6      11      3       7\n",
              "\n",
              "[5 rows x 15 columns]"
            ]
          },
          "metadata": {
            "tags": []
          },
          "execution_count": 105
        }
      ]
    },
    {
      "cell_type": "code",
      "metadata": {
        "colab": {
          "base_uri": "https://localhost:8080/",
          "height": 206
        },
        "id": "3Wfa_fg4DsOi",
        "outputId": "e3e2a8ca-fc48-4a34-d2b0-89620f922477"
      },
      "source": [
        "# Пересортируем признаки на основе важности\n",
        "X_train_sorted = X_train[tree_fl]\n",
        "X_train_sorted.head()"
      ],
      "execution_count": 106,
      "outputs": [
        {
          "output_type": "execute_result",
          "data": {
            "text/html": [
              "<div>\n",
              "<style scoped>\n",
              "    .dataframe tbody tr th:only-of-type {\n",
              "        vertical-align: middle;\n",
              "    }\n",
              "\n",
              "    .dataframe tbody tr th {\n",
              "        vertical-align: top;\n",
              "    }\n",
              "\n",
              "    .dataframe thead th {\n",
              "        text-align: right;\n",
              "    }\n",
              "</style>\n",
              "<table border=\"1\" class=\"dataframe\">\n",
              "  <thead>\n",
              "    <tr style=\"text-align: right;\">\n",
              "      <th></th>\n",
              "      <th>xbox</th>\n",
              "      <th>onpix</th>\n",
              "      <th>x2bar</th>\n",
              "      <th>yedge</th>\n",
              "      <th>xedge</th>\n",
              "      <th>y2bar</th>\n",
              "      <th>height</th>\n",
              "      <th>xbar</th>\n",
              "      <th>xy2bar</th>\n",
              "      <th>ybox</th>\n",
              "      <th>xybar</th>\n",
              "      <th>x2ybar</th>\n",
              "      <th>xedgey</th>\n",
              "      <th>ybar</th>\n",
              "      <th>yedgex</th>\n",
              "    </tr>\n",
              "  </thead>\n",
              "  <tbody>\n",
              "    <tr>\n",
              "      <th>18960</th>\n",
              "      <td>2</td>\n",
              "      <td>3</td>\n",
              "      <td>2</td>\n",
              "      <td>5</td>\n",
              "      <td>4</td>\n",
              "      <td>6</td>\n",
              "      <td>4</td>\n",
              "      <td>9</td>\n",
              "      <td>7</td>\n",
              "      <td>5</td>\n",
              "      <td>11</td>\n",
              "      <td>5</td>\n",
              "      <td>7</td>\n",
              "      <td>7</td>\n",
              "      <td>9</td>\n",
              "    </tr>\n",
              "    <tr>\n",
              "      <th>11353</th>\n",
              "      <td>5</td>\n",
              "      <td>4</td>\n",
              "      <td>2</td>\n",
              "      <td>1</td>\n",
              "      <td>5</td>\n",
              "      <td>3</td>\n",
              "      <td>4</td>\n",
              "      <td>2</td>\n",
              "      <td>8</td>\n",
              "      <td>6</td>\n",
              "      <td>10</td>\n",
              "      <td>10</td>\n",
              "      <td>11</td>\n",
              "      <td>11</td>\n",
              "      <td>7</td>\n",
              "    </tr>\n",
              "    <tr>\n",
              "      <th>7449</th>\n",
              "      <td>2</td>\n",
              "      <td>1</td>\n",
              "      <td>2</td>\n",
              "      <td>1</td>\n",
              "      <td>1</td>\n",
              "      <td>6</td>\n",
              "      <td>3</td>\n",
              "      <td>7</td>\n",
              "      <td>8</td>\n",
              "      <td>4</td>\n",
              "      <td>7</td>\n",
              "      <td>11</td>\n",
              "      <td>11</td>\n",
              "      <td>11</td>\n",
              "      <td>7</td>\n",
              "    </tr>\n",
              "    <tr>\n",
              "      <th>14308</th>\n",
              "      <td>1</td>\n",
              "      <td>0</td>\n",
              "      <td>5</td>\n",
              "      <td>2</td>\n",
              "      <td>2</td>\n",
              "      <td>2</td>\n",
              "      <td>0</td>\n",
              "      <td>4</td>\n",
              "      <td>11</td>\n",
              "      <td>0</td>\n",
              "      <td>7</td>\n",
              "      <td>6</td>\n",
              "      <td>8</td>\n",
              "      <td>6</td>\n",
              "      <td>10</td>\n",
              "    </tr>\n",
              "    <tr>\n",
              "      <th>11889</th>\n",
              "      <td>9</td>\n",
              "      <td>4</td>\n",
              "      <td>3</td>\n",
              "      <td>3</td>\n",
              "      <td>6</td>\n",
              "      <td>7</td>\n",
              "      <td>7</td>\n",
              "      <td>7</td>\n",
              "      <td>9</td>\n",
              "      <td>13</td>\n",
              "      <td>9</td>\n",
              "      <td>9</td>\n",
              "      <td>11</td>\n",
              "      <td>7</td>\n",
              "      <td>7</td>\n",
              "    </tr>\n",
              "  </tbody>\n",
              "</table>\n",
              "</div>"
            ],
            "text/plain": [
              "       xbox  onpix  x2bar  yedge  xedge  ...  xybar  x2ybar  xedgey  ybar  yedgex\n",
              "18960     2      3      2      5      4  ...     11       5       7     7       9\n",
              "11353     5      4      2      1      5  ...     10      10      11    11       7\n",
              "7449      2      1      2      1      1  ...      7      11      11    11       7\n",
              "14308     1      0      5      2      2  ...      7       6       8     6      10\n",
              "11889     9      4      3      3      6  ...      9       9      11     7       7\n",
              "\n",
              "[5 rows x 15 columns]"
            ]
          },
          "metadata": {
            "tags": []
          },
          "execution_count": 106
        }
      ]
    },
    {
      "cell_type": "code",
      "metadata": {
        "id": "gxmOc2ObF_Tc"
      },
      "source": [
        "Y_test_predict = tree.predict(X_test)"
      ],
      "execution_count": 107,
      "outputs": []
    },
    {
      "cell_type": "code",
      "metadata": {
        "colab": {
          "base_uri": "https://localhost:8080/"
        },
        "id": "udHGKR8bGBRw",
        "outputId": "2fef69f8-e65e-4511-dbed-9b56c67d4207"
      },
      "source": [
        "mean_absolute_error(Y_test, Y_test_predict)"
      ],
      "execution_count": 108,
      "outputs": [
        {
          "output_type": "execute_result",
          "data": {
            "text/plain": [
              "0.36427333333333334"
            ]
          },
          "metadata": {
            "tags": []
          },
          "execution_count": 108
        }
      ]
    },
    {
      "cell_type": "code",
      "metadata": {
        "colab": {
          "base_uri": "https://localhost:8080/"
        },
        "id": "c-FpmsYlGEP7",
        "outputId": "9b6c171c-ccdc-450a-ce8a-c815abff44d9"
      },
      "source": [
        "# Исследуем, как изменяется ошибка при добавлении признаков в порядке значимости\n",
        "X_range = list(range(1, len(X_train.columns)+1))\n",
        "X_range"
      ],
      "execution_count": 109,
      "outputs": [
        {
          "output_type": "execute_result",
          "data": {
            "text/plain": [
              "[1, 2, 3, 4, 5, 6, 7, 8, 9, 10, 11, 12, 13, 14, 15]"
            ]
          },
          "metadata": {
            "tags": []
          },
          "execution_count": 109
        }
      ]
    },
    {
      "cell_type": "code",
      "metadata": {
        "id": "1lB-nulSGJM-"
      },
      "source": [
        "mae_list = []\n",
        "for i in X_range:\n",
        "    # Обучим дерево и предскажем результаты на заданном количестве признаков \n",
        "    tree_3 = DecisionTreeRegressor(random_state=1).fit(X_train[tree_fl[0:i]], Y_train)\n",
        "    Y_test_predict_3 = tree_3.predict(X_test[tree_fl[0:i]])\n",
        "    temp_mae = mean_absolute_error(Y_test, Y_test_predict_3)\n",
        "    mae_list.append(temp_mae)"
      ],
      "execution_count": 110,
      "outputs": []
    },
    {
      "cell_type": "code",
      "metadata": {
        "colab": {
          "base_uri": "https://localhost:8080/",
          "height": 322
        },
        "id": "yKB9fdONGLl2",
        "outputId": "d4a7f59a-d22b-4971-adb8-6a2ddd8d6e7c"
      },
      "source": [
        "plt.subplots(figsize=(10,5))\n",
        "plt.plot(X_range, mae_list)\n",
        "for a,b in zip(X_range, mae_list):\n",
        "    plt.text(a, b, str(round(b,3)))\n",
        "plt.show()"
      ],
      "execution_count": 111,
      "outputs": [
        {
          "output_type": "display_data",
          "data": {
            "image/png": "[encoded data removed]",
            "text/plain": [
              "<Figure size 720x360 with 1 Axes>"
            ]
          },
          "metadata": {
            "tags": [],
            "needs_background": "light"
          }
        }
      ]
    },
    {
      "cell_type": "markdown",
      "metadata": {
        "id": "_jzEhwhNGObR"
      },
      "source": [
        "###**Оценка качества моделей**"
      ]
    },
    {
      "cell_type": "markdown",
      "metadata": {
        "id": "fRjnZATeGSBI"
      },
      "source": [
        "**Линейная модель**"
      ]
    },
    {
      "cell_type": "code",
      "metadata": {
        "colab": {
          "base_uri": "https://localhost:8080/"
        },
        "id": "AS-gsdCPGQoE",
        "outputId": "d9e9b220-9e83-41e2-de68-566ddd09d9c6"
      },
      "source": [
        "pred = reg1.predict(x_array.reshape(-1, 1))\n",
        "print(\"r2_score:\", r2_score(y_array, pred))\n",
        "print(\"mean_squared_error\", mean_squared_error(y_array, pred))"
      ],
      "execution_count": 65,
      "outputs": [
        {
          "output_type": "stream",
          "text": [
            "r2_score: 0.7250760853965874\n",
            "mean_squared_error 1.0062752468940939\n"
          ],
          "name": "stdout"
        }
      ]
    },
    {
      "cell_type": "markdown",
      "metadata": {
        "id": "A-i1YHt-GU0q"
      },
      "source": [
        "**SCV**"
      ]
    },
    {
      "cell_type": "code",
      "metadata": {
        "colab": {
          "base_uri": "https://localhost:8080/"
        },
        "id": "eIyVLTemGfeu",
        "outputId": "bc1c5c33-88f1-4efb-cb8c-f58b589dc12f"
      },
      "source": [
        "svr = SVR(kernel='rbf')\n",
        "svr.fit(X_train, Y_train)\n",
        "print(\"r2_score:\", r2_score(Y_test, svr.predict(X_test)))\n",
        "print(\"mean_squared_error\", mean_squared_error(Y_test, svr.predict(X_test)))"
      ],
      "execution_count": 66,
      "outputs": [
        {
          "output_type": "stream",
          "text": [
            "r2_score: 0.9360922605036351\n",
            "mean_squared_error 0.25658292767299734\n"
          ],
          "name": "stdout"
        }
      ]
    },
    {
      "cell_type": "markdown",
      "metadata": {
        "id": "F4_IKPedGWJ0"
      },
      "source": [
        "**Дерево решений**"
      ]
    },
    {
      "cell_type": "code",
      "metadata": {
        "colab": {
          "base_uri": "https://localhost:8080/"
        },
        "id": "mSB5w09NGk9t",
        "outputId": "1d2f525e-be9e-417c-999e-5e446d39e3b7"
      },
      "source": [
        "print(\"r2_score:\", r2_score(Y_test, tree.predict(X_test)))\n",
        "print(\"mean_squared_error:\", mean_squared_error(Y_test, tree.predict(X_test)))"
      ],
      "execution_count": 67,
      "outputs": [
        {
          "output_type": "stream",
          "text": [
            "r2_score: 0.8941208771866901\n",
            "mean_squared_error: 0.42509366666666665\n"
          ],
          "name": "stdout"
        }
      ]
    },
    {
      "cell_type": "markdown",
      "metadata": {
        "id": "Fnd2vbzTHHcM"
      },
      "source": [
        "Коэффициент детерминации для всех трех моделей больше 50%, поэтому можно считать, что все три модели являются приемлемыми."
      ]
    }
  ]
}